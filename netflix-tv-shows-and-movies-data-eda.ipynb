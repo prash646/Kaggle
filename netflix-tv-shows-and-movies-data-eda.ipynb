{
 "cells": [
  {
   "cell_type": "markdown",
   "id": "ecb342d1",
   "metadata": {
    "_cell_guid": "b1076dfc-b9ad-4769-8c92-a6c4dae69d19",
    "_uuid": "8f2839f25d086af736a60e9eeb907d3b93b6e0e5",
    "papermill": {
     "duration": 0.016389,
     "end_time": "2022-08-02T20:02:17.633987",
     "exception": false,
     "start_time": "2022-08-02T20:02:17.617598",
     "status": "completed"
    },
    "tags": []
   },
   "source": [
    "<h1 style=\"font-family:Arial ;\">📽️ 🎞️ Netflix TV Shows and Movies data - EDA</h1>"
   ]
  },
  {
   "cell_type": "markdown",
   "id": "df1c8810",
   "metadata": {
    "papermill": {
     "duration": 0.013298,
     "end_time": "2022-08-02T20:02:17.661613",
     "exception": false,
     "start_time": "2022-08-02T20:02:17.648315",
     "status": "completed"
    },
    "tags": []
   },
   "source": [
    "<h3 style=\"font-family:Arial ;\">Netflix is a subscription-based streaming service that allows our members to watch TV shows and movies without commercials on an internet-connected device.</h3>"
   ]
  },
  {
   "cell_type": "markdown",
   "id": "87e640b9",
   "metadata": {
    "papermill": {
     "duration": 0.01332,
     "end_time": "2022-08-02T20:02:17.688561",
     "exception": false,
     "start_time": "2022-08-02T20:02:17.675241",
     "status": "completed"
    },
    "tags": []
   },
   "source": [
    "![Netflix](https://www.edigitalagency.com.au/wp-content/uploads/Netflix-logo-red-black-png.png)"
   ]
  },
  {
   "cell_type": "markdown",
   "id": "cc6144ed",
   "metadata": {
    "papermill": {
     "duration": 0.014156,
     "end_time": "2022-08-02T20:02:17.716385",
     "exception": false,
     "start_time": "2022-08-02T20:02:17.702229",
     "status": "completed"
    },
    "tags": []
   },
   "source": [
    "<h1 style=\"font-family:Arial ;\"><a href='https://www.kaggle.com/datasets/shivamb/netflix-shows'>Dataset</a></h1>\n",
    "<h4 style=\"font-family:Arial ;\">This dataset contains data about TV shows and Movies available on Netflix.  <br><br><b>Note</b> : Data available upto 25th September 2021</h4>"
   ]
  },
  {
   "cell_type": "markdown",
   "id": "44c7db81",
   "metadata": {
    "papermill": {
     "duration": 0.013271,
     "end_time": "2022-08-02T20:02:17.743284",
     "exception": false,
     "start_time": "2022-08-02T20:02:17.730013",
     "status": "completed"
    },
    "tags": []
   },
   "source": [
    "<hr>"
   ]
  },
  {
   "cell_type": "markdown",
   "id": "1f2e616d",
   "metadata": {
    "papermill": {
     "duration": 0.013284,
     "end_time": "2022-08-02T20:02:17.770175",
     "exception": false,
     "start_time": "2022-08-02T20:02:17.756891",
     "status": "completed"
    },
    "tags": []
   },
   "source": [
    "<h1 style=\"font-family:Arial ;\">❓ Too many questions on mind?🧠❓ <br> <br>➡️ Let's get started!!</h1>"
   ]
  },
  {
   "cell_type": "code",
   "execution_count": 1,
   "id": "54f8df2c",
   "metadata": {
    "execution": {
     "iopub.execute_input": "2022-08-02T20:02:17.799909Z",
     "iopub.status.busy": "2022-08-02T20:02:17.799053Z",
     "iopub.status.idle": "2022-08-02T20:02:19.644454Z",
     "shell.execute_reply": "2022-08-02T20:02:19.643258Z"
    },
    "papermill": {
     "duration": 1.863571,
     "end_time": "2022-08-02T20:02:19.647367",
     "exception": false,
     "start_time": "2022-08-02T20:02:17.783796",
     "status": "completed"
    },
    "tags": []
   },
   "outputs": [],
   "source": [
    "#Importing the package\n",
    "import pandas as pd\n",
    "from textblob import TextBlob\n",
    "from matplotlib import pyplot as plt\n",
    "pd.set_option('mode.chained_assignment', None)"
   ]
  },
  {
   "cell_type": "code",
   "execution_count": 2,
   "id": "49eccbe0",
   "metadata": {
    "execution": {
     "iopub.execute_input": "2022-08-02T20:02:19.676176Z",
     "iopub.status.busy": "2022-08-02T20:02:19.675783Z",
     "iopub.status.idle": "2022-08-02T20:02:19.855945Z",
     "shell.execute_reply": "2022-08-02T20:02:19.854628Z"
    },
    "papermill": {
     "duration": 0.197965,
     "end_time": "2022-08-02T20:02:19.859073",
     "exception": false,
     "start_time": "2022-08-02T20:02:19.661108",
     "status": "completed"
    },
    "tags": []
   },
   "outputs": [
    {
     "data": {
      "text/html": [
       "<div>\n",
       "<style scoped>\n",
       "    .dataframe tbody tr th:only-of-type {\n",
       "        vertical-align: middle;\n",
       "    }\n",
       "\n",
       "    .dataframe tbody tr th {\n",
       "        vertical-align: top;\n",
       "    }\n",
       "\n",
       "    .dataframe thead th {\n",
       "        text-align: right;\n",
       "    }\n",
       "</style>\n",
       "<table border=\"1\" class=\"dataframe\">\n",
       "  <thead>\n",
       "    <tr style=\"text-align: right;\">\n",
       "      <th></th>\n",
       "      <th>show_id</th>\n",
       "      <th>type</th>\n",
       "      <th>title</th>\n",
       "      <th>director</th>\n",
       "      <th>cast</th>\n",
       "      <th>country</th>\n",
       "      <th>date_added</th>\n",
       "      <th>release_year</th>\n",
       "      <th>rating</th>\n",
       "      <th>duration</th>\n",
       "      <th>listed_in</th>\n",
       "      <th>description</th>\n",
       "    </tr>\n",
       "  </thead>\n",
       "  <tbody>\n",
       "    <tr>\n",
       "      <th>0</th>\n",
       "      <td>s1</td>\n",
       "      <td>Movie</td>\n",
       "      <td>Dick Johnson Is Dead</td>\n",
       "      <td>Kirsten Johnson</td>\n",
       "      <td>NaN</td>\n",
       "      <td>United States</td>\n",
       "      <td>September 25, 2021</td>\n",
       "      <td>2020</td>\n",
       "      <td>PG-13</td>\n",
       "      <td>90 min</td>\n",
       "      <td>Documentaries</td>\n",
       "      <td>As her father nears the end of his life, filmm...</td>\n",
       "    </tr>\n",
       "    <tr>\n",
       "      <th>1</th>\n",
       "      <td>s2</td>\n",
       "      <td>TV Show</td>\n",
       "      <td>Blood &amp; Water</td>\n",
       "      <td>NaN</td>\n",
       "      <td>Ama Qamata, Khosi Ngema, Gail Mabalane, Thaban...</td>\n",
       "      <td>South Africa</td>\n",
       "      <td>September 24, 2021</td>\n",
       "      <td>2021</td>\n",
       "      <td>TV-MA</td>\n",
       "      <td>2 Seasons</td>\n",
       "      <td>International TV Shows, TV Dramas, TV Mysteries</td>\n",
       "      <td>After crossing paths at a party, a Cape Town t...</td>\n",
       "    </tr>\n",
       "    <tr>\n",
       "      <th>2</th>\n",
       "      <td>s3</td>\n",
       "      <td>TV Show</td>\n",
       "      <td>Ganglands</td>\n",
       "      <td>Julien Leclercq</td>\n",
       "      <td>Sami Bouajila, Tracy Gotoas, Samuel Jouy, Nabi...</td>\n",
       "      <td>NaN</td>\n",
       "      <td>September 24, 2021</td>\n",
       "      <td>2021</td>\n",
       "      <td>TV-MA</td>\n",
       "      <td>1 Season</td>\n",
       "      <td>Crime TV Shows, International TV Shows, TV Act...</td>\n",
       "      <td>To protect his family from a powerful drug lor...</td>\n",
       "    </tr>\n",
       "    <tr>\n",
       "      <th>3</th>\n",
       "      <td>s4</td>\n",
       "      <td>TV Show</td>\n",
       "      <td>Jailbirds New Orleans</td>\n",
       "      <td>NaN</td>\n",
       "      <td>NaN</td>\n",
       "      <td>NaN</td>\n",
       "      <td>September 24, 2021</td>\n",
       "      <td>2021</td>\n",
       "      <td>TV-MA</td>\n",
       "      <td>1 Season</td>\n",
       "      <td>Docuseries, Reality TV</td>\n",
       "      <td>Feuds, flirtations and toilet talk go down amo...</td>\n",
       "    </tr>\n",
       "    <tr>\n",
       "      <th>4</th>\n",
       "      <td>s5</td>\n",
       "      <td>TV Show</td>\n",
       "      <td>Kota Factory</td>\n",
       "      <td>NaN</td>\n",
       "      <td>Mayur More, Jitendra Kumar, Ranjan Raj, Alam K...</td>\n",
       "      <td>India</td>\n",
       "      <td>September 24, 2021</td>\n",
       "      <td>2021</td>\n",
       "      <td>TV-MA</td>\n",
       "      <td>2 Seasons</td>\n",
       "      <td>International TV Shows, Romantic TV Shows, TV ...</td>\n",
       "      <td>In a city of coaching centers known to train I...</td>\n",
       "    </tr>\n",
       "  </tbody>\n",
       "</table>\n",
       "</div>"
      ],
      "text/plain": [
       "  show_id     type                  title         director  \\\n",
       "0      s1    Movie   Dick Johnson Is Dead  Kirsten Johnson   \n",
       "1      s2  TV Show          Blood & Water              NaN   \n",
       "2      s3  TV Show              Ganglands  Julien Leclercq   \n",
       "3      s4  TV Show  Jailbirds New Orleans              NaN   \n",
       "4      s5  TV Show           Kota Factory              NaN   \n",
       "\n",
       "                                                cast        country  \\\n",
       "0                                                NaN  United States   \n",
       "1  Ama Qamata, Khosi Ngema, Gail Mabalane, Thaban...   South Africa   \n",
       "2  Sami Bouajila, Tracy Gotoas, Samuel Jouy, Nabi...            NaN   \n",
       "3                                                NaN            NaN   \n",
       "4  Mayur More, Jitendra Kumar, Ranjan Raj, Alam K...          India   \n",
       "\n",
       "           date_added  release_year rating   duration  \\\n",
       "0  September 25, 2021          2020  PG-13     90 min   \n",
       "1  September 24, 2021          2021  TV-MA  2 Seasons   \n",
       "2  September 24, 2021          2021  TV-MA   1 Season   \n",
       "3  September 24, 2021          2021  TV-MA   1 Season   \n",
       "4  September 24, 2021          2021  TV-MA  2 Seasons   \n",
       "\n",
       "                                           listed_in  \\\n",
       "0                                      Documentaries   \n",
       "1    International TV Shows, TV Dramas, TV Mysteries   \n",
       "2  Crime TV Shows, International TV Shows, TV Act...   \n",
       "3                             Docuseries, Reality TV   \n",
       "4  International TV Shows, Romantic TV Shows, TV ...   \n",
       "\n",
       "                                         description  \n",
       "0  As her father nears the end of his life, filmm...  \n",
       "1  After crossing paths at a party, a Cape Town t...  \n",
       "2  To protect his family from a powerful drug lor...  \n",
       "3  Feuds, flirtations and toilet talk go down amo...  \n",
       "4  In a city of coaching centers known to train I...  "
      ]
     },
     "execution_count": 2,
     "metadata": {},
     "output_type": "execute_result"
    }
   ],
   "source": [
    "#Reading the database\n",
    "df = pd.read_csv('../input/netflix-shows/netflix_titles.csv')\n",
    "df.head()"
   ]
  },
  {
   "cell_type": "code",
   "execution_count": 3,
   "id": "f547ec06",
   "metadata": {
    "execution": {
     "iopub.execute_input": "2022-08-02T20:02:19.891988Z",
     "iopub.status.busy": "2022-08-02T20:02:19.891057Z",
     "iopub.status.idle": "2022-08-02T20:02:19.897323Z",
     "shell.execute_reply": "2022-08-02T20:02:19.896514Z"
    },
    "papermill": {
     "duration": 0.025722,
     "end_time": "2022-08-02T20:02:19.899943",
     "exception": false,
     "start_time": "2022-08-02T20:02:19.874221",
     "status": "completed"
    },
    "tags": []
   },
   "outputs": [
    {
     "data": {
      "text/plain": [
       "(8807, 12)"
      ]
     },
     "execution_count": 3,
     "metadata": {},
     "output_type": "execute_result"
    }
   ],
   "source": [
    "#Rows vs Columns\n",
    "df.shape"
   ]
  },
  {
   "cell_type": "code",
   "execution_count": 4,
   "id": "8c7e7d49",
   "metadata": {
    "execution": {
     "iopub.execute_input": "2022-08-02T20:02:19.937050Z",
     "iopub.status.busy": "2022-08-02T20:02:19.936618Z",
     "iopub.status.idle": "2022-08-02T20:02:19.969990Z",
     "shell.execute_reply": "2022-08-02T20:02:19.968355Z"
    },
    "papermill": {
     "duration": 0.057624,
     "end_time": "2022-08-02T20:02:19.973317",
     "exception": false,
     "start_time": "2022-08-02T20:02:19.915693",
     "status": "completed"
    },
    "tags": []
   },
   "outputs": [
    {
     "name": "stdout",
     "output_type": "stream",
     "text": [
      "<class 'pandas.core.frame.DataFrame'>\n",
      "RangeIndex: 8807 entries, 0 to 8806\n",
      "Data columns (total 12 columns):\n",
      " #   Column        Non-Null Count  Dtype \n",
      "---  ------        --------------  ----- \n",
      " 0   show_id       8807 non-null   object\n",
      " 1   type          8807 non-null   object\n",
      " 2   title         8807 non-null   object\n",
      " 3   director      6173 non-null   object\n",
      " 4   cast          7982 non-null   object\n",
      " 5   country       7976 non-null   object\n",
      " 6   date_added    8797 non-null   object\n",
      " 7   release_year  8807 non-null   int64 \n",
      " 8   rating        8803 non-null   object\n",
      " 9   duration      8804 non-null   object\n",
      " 10  listed_in     8807 non-null   object\n",
      " 11  description   8807 non-null   object\n",
      "dtypes: int64(1), object(11)\n",
      "memory usage: 825.8+ KB\n"
     ]
    }
   ],
   "source": [
    "#More details about dataset\n",
    "df.info()"
   ]
  },
  {
   "cell_type": "markdown",
   "id": "7ad29c95",
   "metadata": {
    "papermill": {
     "duration": 0.013708,
     "end_time": "2022-08-02T20:02:20.001822",
     "exception": false,
     "start_time": "2022-08-02T20:02:19.988114",
     "status": "completed"
    },
    "tags": []
   },
   "source": [
    "<h3 style=\"font-family:Arial ;\">Basic data pre-processing :</h3>"
   ]
  },
  {
   "cell_type": "code",
   "execution_count": 5,
   "id": "325a6330",
   "metadata": {
    "execution": {
     "iopub.execute_input": "2022-08-02T20:02:20.031890Z",
     "iopub.status.busy": "2022-08-02T20:02:20.031436Z",
     "iopub.status.idle": "2022-08-02T20:02:20.046526Z",
     "shell.execute_reply": "2022-08-02T20:02:20.045210Z"
    },
    "papermill": {
     "duration": 0.032984,
     "end_time": "2022-08-02T20:02:20.048799",
     "exception": false,
     "start_time": "2022-08-02T20:02:20.015815",
     "status": "completed"
    },
    "tags": []
   },
   "outputs": [
    {
     "data": {
      "text/plain": [
       "show_id            0\n",
       "type               0\n",
       "title              0\n",
       "director        2634\n",
       "cast             825\n",
       "country          831\n",
       "date_added        10\n",
       "release_year       0\n",
       "rating             4\n",
       "duration           3\n",
       "listed_in          0\n",
       "description        0\n",
       "dtype: int64"
      ]
     },
     "execution_count": 5,
     "metadata": {},
     "output_type": "execute_result"
    }
   ],
   "source": [
    "#Check null values\n",
    "df.isnull().sum()"
   ]
  },
  {
   "cell_type": "code",
   "execution_count": 6,
   "id": "7e032633",
   "metadata": {
    "execution": {
     "iopub.execute_input": "2022-08-02T20:02:20.079537Z",
     "iopub.status.busy": "2022-08-02T20:02:20.078684Z",
     "iopub.status.idle": "2022-08-02T20:02:20.101935Z",
     "shell.execute_reply": "2022-08-02T20:02:20.100585Z"
    },
    "papermill": {
     "duration": 0.041312,
     "end_time": "2022-08-02T20:02:20.104596",
     "exception": false,
     "start_time": "2022-08-02T20:02:20.063284",
     "status": "completed"
    },
    "tags": []
   },
   "outputs": [
    {
     "data": {
      "text/plain": [
       "show_id         0\n",
       "type            0\n",
       "title           0\n",
       "director        0\n",
       "cast            0\n",
       "country         0\n",
       "date_added      0\n",
       "release_year    0\n",
       "rating          0\n",
       "duration        0\n",
       "listed_in       0\n",
       "description     0\n",
       "dtype: int64"
      ]
     },
     "execution_count": 6,
     "metadata": {},
     "output_type": "execute_result"
    }
   ],
   "source": [
    "#fill null values\n",
    "df.fillna('NA',inplace=True)\n",
    "\n",
    "#check if any null values is present\n",
    "df.isnull().sum()"
   ]
  },
  {
   "cell_type": "code",
   "execution_count": 7,
   "id": "5537dec5",
   "metadata": {
    "execution": {
     "iopub.execute_input": "2022-08-02T20:02:20.135907Z",
     "iopub.status.busy": "2022-08-02T20:02:20.135462Z",
     "iopub.status.idle": "2022-08-02T20:02:20.170145Z",
     "shell.execute_reply": "2022-08-02T20:02:20.168902Z"
    },
    "papermill": {
     "duration": 0.053372,
     "end_time": "2022-08-02T20:02:20.172703",
     "exception": false,
     "start_time": "2022-08-02T20:02:20.119331",
     "status": "completed"
    },
    "tags": []
   },
   "outputs": [
    {
     "data": {
      "text/plain": [
       "array([False])"
      ]
     },
     "execution_count": 7,
     "metadata": {},
     "output_type": "execute_result"
    }
   ],
   "source": [
    "#Check for duplicated values\n",
    "df.duplicated().unique()"
   ]
  },
  {
   "cell_type": "code",
   "execution_count": 8,
   "id": "2c3f5119",
   "metadata": {
    "execution": {
     "iopub.execute_input": "2022-08-02T20:02:20.203479Z",
     "iopub.status.busy": "2022-08-02T20:02:20.202834Z",
     "iopub.status.idle": "2022-08-02T20:02:20.211014Z",
     "shell.execute_reply": "2022-08-02T20:02:20.209753Z"
    },
    "papermill": {
     "duration": 0.026189,
     "end_time": "2022-08-02T20:02:20.213344",
     "exception": false,
     "start_time": "2022-08-02T20:02:20.187155",
     "status": "completed"
    },
    "tags": []
   },
   "outputs": [
    {
     "data": {
      "text/plain": [
       "array(['Movie', 'TV Show'], dtype=object)"
      ]
     },
     "execution_count": 8,
     "metadata": {},
     "output_type": "execute_result"
    }
   ],
   "source": [
    "#Check values in type columns\n",
    "df['type'].unique()"
   ]
  },
  {
   "cell_type": "code",
   "execution_count": 9,
   "id": "13f0b909",
   "metadata": {
    "execution": {
     "iopub.execute_input": "2022-08-02T20:02:20.244334Z",
     "iopub.status.busy": "2022-08-02T20:02:20.243905Z",
     "iopub.status.idle": "2022-08-02T20:02:20.251045Z",
     "shell.execute_reply": "2022-08-02T20:02:20.249979Z"
    },
    "papermill": {
     "duration": 0.025516,
     "end_time": "2022-08-02T20:02:20.253448",
     "exception": false,
     "start_time": "2022-08-02T20:02:20.227932",
     "status": "completed"
    },
    "tags": []
   },
   "outputs": [
    {
     "data": {
      "text/plain": [
       "array([2020, 2021, 1993, 2018, 1996, 1998, 1997, 2010, 2013, 2017, 1975,\n",
       "       1978, 1983, 1987, 2012, 2001, 2014, 2002, 2003, 2004, 2011, 2008,\n",
       "       2009, 2007, 2005, 2006, 1994, 2015, 2019, 2016, 1982, 1989, 1990,\n",
       "       1991, 1999, 1986, 1992, 1984, 1980, 1961, 2000, 1995, 1985, 1976,\n",
       "       1959, 1988, 1981, 1972, 1964, 1945, 1954, 1979, 1958, 1956, 1963,\n",
       "       1970, 1973, 1925, 1974, 1960, 1966, 1971, 1962, 1969, 1977, 1967,\n",
       "       1968, 1965, 1946, 1942, 1955, 1944, 1947, 1943])"
      ]
     },
     "execution_count": 9,
     "metadata": {},
     "output_type": "execute_result"
    }
   ],
   "source": [
    "#Check values in release_year columns\n",
    "df['release_year'].unique()"
   ]
  },
  {
   "cell_type": "code",
   "execution_count": 10,
   "id": "562c48e0",
   "metadata": {
    "execution": {
     "iopub.execute_input": "2022-08-02T20:02:20.284802Z",
     "iopub.status.busy": "2022-08-02T20:02:20.284339Z",
     "iopub.status.idle": "2022-08-02T20:02:20.318279Z",
     "shell.execute_reply": "2022-08-02T20:02:20.317035Z"
    },
    "papermill": {
     "duration": 0.052609,
     "end_time": "2022-08-02T20:02:20.320951",
     "exception": false,
     "start_time": "2022-08-02T20:02:20.268342",
     "status": "completed"
    },
    "tags": []
   },
   "outputs": [
    {
     "data": {
      "text/plain": [
       "array(['Parents Strongly Cautioned', 'TV Mature Audience Only',\n",
       "       'Parental Guidance Suggested', 'All Children',\n",
       "       'Directed to Older Children', 'Restricted', 'General Audience',\n",
       "       'No Children 17 or Under', 'Unrated'], dtype=object)"
      ]
     },
     "execution_count": 10,
     "metadata": {},
     "output_type": "execute_result"
    }
   ],
   "source": [
    "#Converting rating to meaningful description\n",
    "#Thanks to source : https://gopioneer.com/wp-content/uploads/2017/01/dtv_movieratings.pdf\n",
    "\n",
    "df['rating'].replace(to_replace='TV-MA' , value='TV Mature Audience Only', inplace=True)\n",
    "df['rating'].replace(to_replace='TV-14' , value='Parents Strongly Cautioned', inplace=True)\n",
    "df['rating'].replace(to_replace='TV-PG' , value='Parental Guidance Suggested', inplace=True)\n",
    "df['rating'].replace(to_replace='R' , value='Restricted', inplace=True)\n",
    "df['rating'].replace(to_replace='PG-13' , value='Parents Strongly Cautioned', inplace=True)\n",
    "df['rating'].replace(to_replace='TV-Y7' , value='Directed to Older Children', inplace=True)\n",
    "df['rating'].replace(to_replace='TV-Y' , value='All Children', inplace=True)\n",
    "df['rating'].replace(to_replace='PG' , value='Parental Guidance Suggested', inplace=True)\n",
    "df['rating'].replace(to_replace='TV-G' , value='General Audience', inplace=True)\n",
    "df['rating'].replace(to_replace='G' , value='General Audience', inplace=True)\n",
    "df['rating'].replace(to_replace='TV-Y7-FV' , value='Directed to Older Children', inplace=True)\n",
    "df['rating'].replace(to_replace='NC-17' , value='No Children 17 or Under', inplace=True)\n",
    "df['rating'].replace(to_replace=['UR','NR','NA'] , value='Unrated', inplace=True)\n",
    "df.loc[df['rating'].str.contains(' min'), 'rating'] = 'Unrated'\n",
    "\n",
    "df['rating'].unique()"
   ]
  },
  {
   "cell_type": "code",
   "execution_count": 11,
   "id": "52b12388",
   "metadata": {
    "execution": {
     "iopub.execute_input": "2022-08-02T20:02:20.352316Z",
     "iopub.status.busy": "2022-08-02T20:02:20.351902Z",
     "iopub.status.idle": "2022-08-02T20:02:20.581721Z",
     "shell.execute_reply": "2022-08-02T20:02:20.580487Z"
    },
    "papermill": {
     "duration": 0.248803,
     "end_time": "2022-08-02T20:02:20.584646",
     "exception": false,
     "start_time": "2022-08-02T20:02:20.335843",
     "status": "completed"
    },
    "tags": []
   },
   "outputs": [],
   "source": [
    "#Getting useful information from columns\n",
    "df['show_id'] = df.show_id.str[1:]\n",
    "\n",
    "#Convert date column to datetime\n",
    "df_date= df[(df['date_added']!='NA')][['show_id','date_added','type','description']]\n",
    "df_date['date_added'] = pd.to_datetime(df_date['date_added'])\n",
    "\n",
    "#Convert date column to week day,month,year\n",
    "df_date['day_added'] = df_date['date_added'].dt.day_name()\n",
    "df_date['month_added'] = df_date['date_added'].dt.month_name()\n",
    "df_date['year_added'] = df_date['date_added'].dt.year"
   ]
  },
  {
   "cell_type": "code",
   "execution_count": 12,
   "id": "552c1d06",
   "metadata": {
    "execution": {
     "iopub.execute_input": "2022-08-02T20:02:20.616662Z",
     "iopub.status.busy": "2022-08-02T20:02:20.616227Z",
     "iopub.status.idle": "2022-08-02T20:02:20.643460Z",
     "shell.execute_reply": "2022-08-02T20:02:20.641743Z"
    },
    "papermill": {
     "duration": 0.046791,
     "end_time": "2022-08-02T20:02:20.646351",
     "exception": false,
     "start_time": "2022-08-02T20:02:20.599560",
     "status": "completed"
    },
    "tags": []
   },
   "outputs": [
    {
     "name": "stdout",
     "output_type": "stream",
     "text": [
      "<class 'pandas.core.frame.DataFrame'>\n",
      "RangeIndex: 8807 entries, 0 to 8806\n",
      "Data columns (total 12 columns):\n",
      " #   Column        Non-Null Count  Dtype   \n",
      "---  ------        --------------  -----   \n",
      " 0   show_id       8807 non-null   int64   \n",
      " 1   type          8807 non-null   category\n",
      " 2   title         8807 non-null   object  \n",
      " 3   director      8807 non-null   object  \n",
      " 4   cast          8807 non-null   object  \n",
      " 5   country       8807 non-null   object  \n",
      " 6   date_added    8807 non-null   object  \n",
      " 7   release_year  8807 non-null   int64   \n",
      " 8   rating        8807 non-null   object  \n",
      " 9   duration      8807 non-null   object  \n",
      " 10  listed_in     8807 non-null   object  \n",
      " 11  description   8807 non-null   object  \n",
      "dtypes: category(1), int64(2), object(9)\n",
      "memory usage: 765.7+ KB\n"
     ]
    }
   ],
   "source": [
    "#Changing data types\n",
    "df = df.astype({'show_id':int,'type':'category'})\n",
    "\n",
    "#Less memory usage\n",
    "df.info()"
   ]
  },
  {
   "cell_type": "markdown",
   "id": "6f7654d5",
   "metadata": {
    "papermill": {
     "duration": 0.01459,
     "end_time": "2022-08-02T20:02:20.676073",
     "exception": false,
     "start_time": "2022-08-02T20:02:20.661483",
     "status": "completed"
    },
    "tags": []
   },
   "source": [
    "<hr>"
   ]
  },
  {
   "cell_type": "markdown",
   "id": "638c9dc6",
   "metadata": {
    "papermill": {
     "duration": 0.014453,
     "end_time": "2022-08-02T20:02:20.705270",
     "exception": false,
     "start_time": "2022-08-02T20:02:20.690817",
     "status": "completed"
    },
    "tags": []
   },
   "source": [
    "<h3 style=\"font-family:Arial ;\">✅ Movies vs TV Shows</h3>"
   ]
  },
  {
   "cell_type": "code",
   "execution_count": 13,
   "id": "84266433",
   "metadata": {
    "execution": {
     "iopub.execute_input": "2022-08-02T20:02:20.736802Z",
     "iopub.status.busy": "2022-08-02T20:02:20.736368Z",
     "iopub.status.idle": "2022-08-02T20:02:20.889110Z",
     "shell.execute_reply": "2022-08-02T20:02:20.887814Z"
    },
    "papermill": {
     "duration": 0.172232,
     "end_time": "2022-08-02T20:02:20.892214",
     "exception": false,
     "start_time": "2022-08-02T20:02:20.719982",
     "status": "completed"
    },
    "tags": []
   },
   "outputs": [
    {
     "data": {
      "image/png": "[encoded data removed]",
      "text/plain": [
       "<Figure size 360x360 with 1 Axes>"
      ]
     },
     "metadata": {},
     "output_type": "display_data"
    }
   ],
   "source": [
    "#Movies Vs TV Shows\n",
    "xy = df['type'].value_counts()\n",
    "x = xy.index\n",
    "y = xy.values\n",
    "plt.figure(figsize=(5, 5))\n",
    "plt.pie(y,labels=x,colors=[ '#DD7596', '#8EB897'],autopct='%1.2f%%')\n",
    "plt.title(\"Movie vs TV Shows\")\n",
    "plt.show()\n"
   ]
  },
  {
   "cell_type": "markdown",
   "id": "52dc7d72",
   "metadata": {
    "papermill": {
     "duration": 0.024993,
     "end_time": "2022-08-02T20:02:20.943244",
     "exception": false,
     "start_time": "2022-08-02T20:02:20.918251",
     "status": "completed"
    },
    "tags": []
   },
   "source": [
    " <h4 style=\"font-family:Arial ;\">Looking at above chart, we can say Netflix has more movies than twice the number of TV shows.</h4>"
   ]
  },
  {
   "cell_type": "markdown",
   "id": "8f5d4928",
   "metadata": {
    "papermill": {
     "duration": 0.014979,
     "end_time": "2022-08-02T20:02:20.979088",
     "exception": false,
     "start_time": "2022-08-02T20:02:20.964109",
     "status": "completed"
    },
    "tags": []
   },
   "source": [
    "<hr>"
   ]
  },
  {
   "cell_type": "markdown",
   "id": "44cf62d1",
   "metadata": {
    "papermill": {
     "duration": 0.014774,
     "end_time": "2022-08-02T20:02:21.009000",
     "exception": false,
     "start_time": "2022-08-02T20:02:20.994226",
     "status": "completed"
    },
    "tags": []
   },
   "source": [
    "<h3 style=\"font-family:Arial ;\">✅ Which country produces the most content on Netflix?</h3>"
   ]
  },
  {
   "cell_type": "code",
   "execution_count": 14,
   "id": "059caa0a",
   "metadata": {
    "execution": {
     "iopub.execute_input": "2022-08-02T20:02:21.041473Z",
     "iopub.status.busy": "2022-08-02T20:02:21.041083Z",
     "iopub.status.idle": "2022-08-02T20:02:21.315459Z",
     "shell.execute_reply": "2022-08-02T20:02:21.314243Z"
    },
    "papermill": {
     "duration": 0.29373,
     "end_time": "2022-08-02T20:02:21.317948",
     "exception": false,
     "start_time": "2022-08-02T20:02:21.024218",
     "status": "completed"
    },
    "tags": []
   },
   "outputs": [
    {
     "data": {
      "image/png": "[encoded data removed]",
      "text/plain": [
       "<Figure size 864x360 with 1 Axes>"
      ]
     },
     "metadata": {
      "needs_background": "light"
     },
     "output_type": "display_data"
    }
   ],
   "source": [
    "#Top 10 countries with most releases on netflix\n",
    "df_country = df[df['country']!='NA'][['country','type']]\n",
    "\n",
    "#total no. of rows\n",
    "total = df.count().show_id \n",
    "xy = df_country['country'].str.split(', ').explode().value_counts().nlargest(10)\n",
    "x = xy.index\n",
    "y = xy.values\n",
    "fig = plt.figure(figsize=(12, 5))\n",
    "plt.barh(x, y)\n",
    "for index, value in enumerate(y):\n",
    "    #Divide by total number to get percentage\n",
    "    plt.text(value, index, str(round(value*100/total,2))+'%')\n",
    "plt.xlabel(\"Percentage of content\")\n",
    "plt.ylabel(\"Country\")\n",
    "plt.title(\"Percentage of content produced by each country\")\n",
    "plt.show()"
   ]
  },
  {
   "cell_type": "markdown",
   "id": "9deb6c68",
   "metadata": {
    "papermill": {
     "duration": 0.015507,
     "end_time": "2022-08-02T20:02:21.349327",
     "exception": false,
     "start_time": "2022-08-02T20:02:21.333820",
     "status": "completed"
    },
    "tags": []
   },
   "source": [
    " <h4 style=\"font-family:Arial ;\">United states produces more than 40%(3500+) content</h4>"
   ]
  },
  {
   "cell_type": "markdown",
   "id": "04bdd4ec",
   "metadata": {
    "papermill": {
     "duration": 0.015871,
     "end_time": "2022-08-02T20:02:21.380973",
     "exception": false,
     "start_time": "2022-08-02T20:02:21.365102",
     "status": "completed"
    },
    "tags": []
   },
   "source": [
    "<hr>"
   ]
  },
  {
   "cell_type": "markdown",
   "id": "b7a5fc50",
   "metadata": {
    "papermill": {
     "duration": 0.015358,
     "end_time": "2022-08-02T20:02:21.412049",
     "exception": false,
     "start_time": "2022-08-02T20:02:21.396691",
     "status": "completed"
    },
    "tags": []
   },
   "source": [
    " <h3 style=\"font-family:Arial ;\">✅ On which day of the week Netflix adds content the most?</h3>"
   ]
  },
  {
   "cell_type": "code",
   "execution_count": 15,
   "id": "5d2ef9d6",
   "metadata": {
    "execution": {
     "iopub.execute_input": "2022-08-02T20:02:21.445853Z",
     "iopub.status.busy": "2022-08-02T20:02:21.445057Z",
     "iopub.status.idle": "2022-08-02T20:02:21.588020Z",
     "shell.execute_reply": "2022-08-02T20:02:21.586420Z"
    },
    "papermill": {
     "duration": 0.163583,
     "end_time": "2022-08-02T20:02:21.591410",
     "exception": false,
     "start_time": "2022-08-02T20:02:21.427827",
     "status": "completed"
    },
    "tags": []
   },
   "outputs": [
    {
     "data": {
      "image/png": "[encoded data removed]",
      "text/plain": [
       "<Figure size 360x360 with 1 Axes>"
      ]
     },
     "metadata": {},
     "output_type": "display_data"
    }
   ],
   "source": [
    "#Content release per week day\n",
    "xy = df_date['day_added'].value_counts()\n",
    "x = xy.index\n",
    "y = xy.values\n",
    "plt.figure(figsize=(5, 5))\n",
    "plt.pie(y,labels=x,autopct='%1.2f%%')\n",
    "plt.title(\"Content released day wise\")\n",
    "plt.show()"
   ]
  },
  {
   "cell_type": "markdown",
   "id": "0c40868c",
   "metadata": {
    "papermill": {
     "duration": 0.026147,
     "end_time": "2022-08-02T20:02:21.644283",
     "exception": false,
     "start_time": "2022-08-02T20:02:21.618136",
     "status": "completed"
    },
    "tags": []
   },
   "source": [
    " <h4 style=\"font-family:Arial ;\">Undoubtedly, Friday is everyone's favourite for binge watching. More than 1/4th of content is released on Friday(Weekend is on !!)</h4>"
   ]
  },
  {
   "cell_type": "markdown",
   "id": "9208a0a1",
   "metadata": {
    "papermill": {
     "duration": 0.015855,
     "end_time": "2022-08-02T20:02:21.679273",
     "exception": false,
     "start_time": "2022-08-02T20:02:21.663418",
     "status": "completed"
    },
    "tags": []
   },
   "source": [
    "<hr>"
   ]
  },
  {
   "cell_type": "markdown",
   "id": "6437ae30",
   "metadata": {
    "papermill": {
     "duration": 0.015834,
     "end_time": "2022-08-02T20:02:21.711280",
     "exception": false,
     "start_time": "2022-08-02T20:02:21.695446",
     "status": "completed"
    },
    "tags": []
   },
   "source": [
    " <h3 style=\"font-family:Arial ;\">✅ Which month has the most content releases(add on netflix)?</h3>"
   ]
  },
  {
   "cell_type": "code",
   "execution_count": 16,
   "id": "02b8183a",
   "metadata": {
    "execution": {
     "iopub.execute_input": "2022-08-02T20:02:21.746376Z",
     "iopub.status.busy": "2022-08-02T20:02:21.745232Z",
     "iopub.status.idle": "2022-08-02T20:02:21.933561Z",
     "shell.execute_reply": "2022-08-02T20:02:21.932032Z"
    },
    "papermill": {
     "duration": 0.209676,
     "end_time": "2022-08-02T20:02:21.937252",
     "exception": false,
     "start_time": "2022-08-02T20:02:21.727576",
     "status": "completed"
    },
    "tags": []
   },
   "outputs": [
    {
     "data": {
      "image/png": "[encoded data removed]",
      "text/plain": [
       "<Figure size 360x360 with 1 Axes>"
      ]
     },
     "metadata": {},
     "output_type": "display_data"
    }
   ],
   "source": [
    "#Content released per month\n",
    "xy = df_date['month_added'].value_counts()\n",
    "x = xy.index\n",
    "y = xy.values\n",
    "plt.figure(figsize=(5, 5))\n",
    "plt.pie(y,labels=x,autopct='%1.2f%%')\n",
    "plt.title(\"Content released Month wise\")\n",
    "plt.show()"
   ]
  },
  {
   "cell_type": "markdown",
   "id": "86ce9076",
   "metadata": {
    "papermill": {
     "duration": 0.022579,
     "end_time": "2022-08-02T20:02:21.988604",
     "exception": false,
     "start_time": "2022-08-02T20:02:21.966025",
     "status": "completed"
    },
    "tags": []
   },
   "source": [
    " <h4 style=\"font-family:Arial ;\">July and December are favourite for content release.</h4>"
   ]
  },
  {
   "cell_type": "markdown",
   "id": "71d3f4c7",
   "metadata": {
    "papermill": {
     "duration": 0.017359,
     "end_time": "2022-08-02T20:02:22.023057",
     "exception": false,
     "start_time": "2022-08-02T20:02:22.005698",
     "status": "completed"
    },
    "tags": []
   },
   "source": [
    "<hr>"
   ]
  },
  {
   "cell_type": "markdown",
   "id": "86d49c48",
   "metadata": {
    "papermill": {
     "duration": 0.016727,
     "end_time": "2022-08-02T20:02:22.056869",
     "exception": false,
     "start_time": "2022-08-02T20:02:22.040142",
     "status": "completed"
    },
    "tags": []
   },
   "source": [
    " <h3 style=\"font-family:Arial ;\">✅ How content release is increasing/decreasing year by year? In which year most of the content was released? (Release - add on netflix)</h3>"
   ]
  },
  {
   "cell_type": "code",
   "execution_count": 17,
   "id": "c4a7c5a2",
   "metadata": {
    "execution": {
     "iopub.execute_input": "2022-08-02T20:02:22.093478Z",
     "iopub.status.busy": "2022-08-02T20:02:22.092283Z",
     "iopub.status.idle": "2022-08-02T20:02:22.338091Z",
     "shell.execute_reply": "2022-08-02T20:02:22.337161Z"
    },
    "papermill": {
     "duration": 0.266419,
     "end_time": "2022-08-02T20:02:22.340387",
     "exception": false,
     "start_time": "2022-08-02T20:02:22.073968",
     "status": "completed"
    },
    "tags": []
   },
   "outputs": [
    {
     "data": {
      "image/png": "[encoded data removed]",
      "text/plain": [
       "<Figure size 576x432 with 1 Axes>"
      ]
     },
     "metadata": {
      "needs_background": "light"
     },
     "output_type": "display_data"
    }
   ],
   "source": [
    "#Content released per year\n",
    "xy = df_date['year_added'].value_counts().sort_index()\n",
    "xy1 = df_date[df_date['type']=='Movie']['year_added'].value_counts().sort_index()\n",
    "xy2 = df_date[df_date['type']=='TV Show']['year_added'].value_counts().sort_index()\n",
    "\n",
    "plt.figure(figsize=(8,6))\n",
    "plt.plot(xy.index,xy.values,marker='o',label='Total')\n",
    "plt.plot(xy1.index,xy1.values,marker='o',label='Movie')\n",
    "plt.plot(xy2.index,xy2.values,marker='o',label='TV Show')\n",
    "plt.xlabel(\"Year\")\n",
    "plt.ylabel(\"No of releases\")\n",
    "plt.legend()\n",
    "plt.show()"
   ]
  },
  {
   "cell_type": "markdown",
   "id": "6254b9e4",
   "metadata": {
    "papermill": {
     "duration": 0.017491,
     "end_time": "2022-08-02T20:02:22.375816",
     "exception": false,
     "start_time": "2022-08-02T20:02:22.358325",
     "status": "completed"
    },
    "tags": []
   },
   "source": [
    "* <h4 style=\"font-family:Arial ;\">Releases are increasing since 2014,but saw a drop after 2019(might be due to Covid)</h4>\n",
    "* <h4 style=\"font-family:Arial ;\">Most content released in 2019(during Covid) to engage people at home</h4>"
   ]
  },
  {
   "cell_type": "markdown",
   "id": "83b29ad7",
   "metadata": {
    "papermill": {
     "duration": 0.017468,
     "end_time": "2022-08-02T20:02:22.411033",
     "exception": false,
     "start_time": "2022-08-02T20:02:22.393565",
     "status": "completed"
    },
    "tags": []
   },
   "source": [
    "<hr>"
   ]
  },
  {
   "cell_type": "markdown",
   "id": "fd5e8dd4",
   "metadata": {
    "papermill": {
     "duration": 0.01728,
     "end_time": "2022-08-02T20:02:22.446078",
     "exception": false,
     "start_time": "2022-08-02T20:02:22.428798",
     "status": "completed"
    },
    "tags": []
   },
   "source": [
    "<h3 style=\"font-family:Arial ;\">✅ What is sentimental analysis of stories of content?</h3>"
   ]
  },
  {
   "cell_type": "code",
   "execution_count": 18,
   "id": "5e96d890",
   "metadata": {
    "execution": {
     "iopub.execute_input": "2022-08-02T20:02:22.483754Z",
     "iopub.status.busy": "2022-08-02T20:02:22.483017Z",
     "iopub.status.idle": "2022-08-02T20:02:33.192297Z",
     "shell.execute_reply": "2022-08-02T20:02:33.191226Z"
    },
    "papermill": {
     "duration": 10.731347,
     "end_time": "2022-08-02T20:02:33.195198",
     "exception": false,
     "start_time": "2022-08-02T20:02:22.463851",
     "status": "completed"
    },
    "tags": []
   },
   "outputs": [],
   "source": [
    "#Sentimental analysis of description of content\n",
    "df_sentiment=df[['release_year','description']]\n",
    "df_sentiment=df_sentiment.rename(columns={'release_year':'Release Year'})\n",
    "for index,row in df_sentiment.iterrows():\n",
    "    z=row['description']\n",
    "    testimonial=TextBlob(z)\n",
    "    p=testimonial.sentiment.polarity\n",
    "    if p==1:\n",
    "        sent='Neutral'\n",
    "    elif p>0:\n",
    "        sent='Positive'\n",
    "    else:\n",
    "        sent='Negative'\n",
    "    df_sentiment.loc[[index,2],'Sentiment']=sent\n",
    "    \n",
    "df_sentiment=df_sentiment.groupby(['Release Year','Sentiment']).size().reset_index(name='Total')\n",
    "\n",
    "#\n",
    "df_sentiment=df_sentiment[df_sentiment['Release Year']>=2010]"
   ]
  },
  {
   "cell_type": "code",
   "execution_count": 19,
   "id": "3bd45074",
   "metadata": {
    "execution": {
     "iopub.execute_input": "2022-08-02T20:02:33.233220Z",
     "iopub.status.busy": "2022-08-02T20:02:33.232123Z",
     "iopub.status.idle": "2022-08-02T20:02:33.552165Z",
     "shell.execute_reply": "2022-08-02T20:02:33.550860Z"
    },
    "papermill": {
     "duration": 0.34176,
     "end_time": "2022-08-02T20:02:33.554772",
     "exception": false,
     "start_time": "2022-08-02T20:02:33.213012",
     "status": "completed"
    },
    "tags": []
   },
   "outputs": [
    {
     "data": {
      "text/plain": [
       "<AxesSubplot:xlabel='Release Year'>"
      ]
     },
     "execution_count": 19,
     "metadata": {},
     "output_type": "execute_result"
    },
    {
     "data": {
      "image/png": "[encoded data removed]",
      "text/plain": [
       "<Figure size 432x288 with 1 Axes>"
      ]
     },
     "metadata": {
      "needs_background": "light"
     },
     "output_type": "display_data"
    }
   ],
   "source": [
    "df_sentiment = pd.pivot_table(df_sentiment, values = 'Total', index='Release Year', columns = 'Sentiment')\n",
    "df_sentiment.plot.bar(stacked=True)"
   ]
  },
  {
   "cell_type": "markdown",
   "id": "7d4ed68b",
   "metadata": {
    "papermill": {
     "duration": 0.018021,
     "end_time": "2022-08-02T20:02:33.590995",
     "exception": false,
     "start_time": "2022-08-02T20:02:33.572974",
     "status": "completed"
    },
    "tags": []
   },
   "source": [
    "<h4 style=\"font-family:Arial ;\">There is slightly little more positive content than negative one.</h4>"
   ]
  },
  {
   "cell_type": "markdown",
   "id": "8ae2d814",
   "metadata": {
    "papermill": {
     "duration": 0.017824,
     "end_time": "2022-08-02T20:02:33.626848",
     "exception": false,
     "start_time": "2022-08-02T20:02:33.609024",
     "status": "completed"
    },
    "tags": []
   },
   "source": [
    "<hr>"
   ]
  },
  {
   "cell_type": "markdown",
   "id": "ebded7dd",
   "metadata": {
    "papermill": {
     "duration": 0.01782,
     "end_time": "2022-08-02T20:02:33.662898",
     "exception": false,
     "start_time": "2022-08-02T20:02:33.645078",
     "status": "completed"
    },
    "tags": []
   },
   "source": [
    "<h3 style=\"font-family:Arial ;\">✅ Which type of content is available the most(as per Maturity Ratings)?</h3>"
   ]
  },
  {
   "cell_type": "code",
   "execution_count": 20,
   "id": "685ba4d7",
   "metadata": {
    "execution": {
     "iopub.execute_input": "2022-08-02T20:02:33.700771Z",
     "iopub.status.busy": "2022-08-02T20:02:33.700337Z",
     "iopub.status.idle": "2022-08-02T20:02:33.886510Z",
     "shell.execute_reply": "2022-08-02T20:02:33.885110Z"
    },
    "papermill": {
     "duration": 0.208775,
     "end_time": "2022-08-02T20:02:33.889660",
     "exception": false,
     "start_time": "2022-08-02T20:02:33.680885",
     "status": "completed"
    },
    "tags": []
   },
   "outputs": [
    {
     "data": {
      "image/png": "[encoded data removed]",
      "text/plain": [
       "<Figure size 504x504 with 1 Axes>"
      ]
     },
     "metadata": {},
     "output_type": "display_data"
    }
   ],
   "source": [
    "#Grouping the content based on their ratings\n",
    "xy = df['rating'].value_counts().nlargest(8)\n",
    "x = xy.index\n",
    "y = xy.values\n",
    "plt.figure(figsize=(7, 7))\n",
    "plt.pie(y,labels=x,autopct='%1.0f%%',explode = tuple([0.1 for i in range(8)]))\n",
    "plt.title(\"Rating wise Content\")\n",
    "plt.show()"
   ]
  },
  {
   "cell_type": "markdown",
   "id": "0127f7f3",
   "metadata": {
    "papermill": {
     "duration": 0.018757,
     "end_time": "2022-08-02T20:02:33.938243",
     "exception": false,
     "start_time": "2022-08-02T20:02:33.919486",
     "status": "completed"
    },
    "tags": []
   },
   "source": [
    "<h4 style=\"font-family:Arial ;\">As per chart, most of the content is for Matured Audience(Adults)</h4>"
   ]
  },
  {
   "cell_type": "markdown",
   "id": "9816d67a",
   "metadata": {
    "papermill": {
     "duration": 0.01879,
     "end_time": "2022-08-02T20:02:33.976081",
     "exception": false,
     "start_time": "2022-08-02T20:02:33.957291",
     "status": "completed"
    },
    "tags": []
   },
   "source": [
    "<hr>"
   ]
  },
  {
   "cell_type": "markdown",
   "id": "1596913b",
   "metadata": {
    "papermill": {
     "duration": 0.01864,
     "end_time": "2022-08-02T20:02:34.013635",
     "exception": false,
     "start_time": "2022-08-02T20:02:33.994995",
     "status": "completed"
    },
    "tags": []
   },
   "source": [
    "<h3 style=\"font-family:Arial ;\">✅ Which genre content is most available on Netflix?</h3>"
   ]
  },
  {
   "cell_type": "code",
   "execution_count": 21,
   "id": "e1da8dff",
   "metadata": {
    "execution": {
     "iopub.execute_input": "2022-08-02T20:02:34.053649Z",
     "iopub.status.busy": "2022-08-02T20:02:34.052889Z",
     "iopub.status.idle": "2022-08-02T20:02:34.088939Z",
     "shell.execute_reply": "2022-08-02T20:02:34.087765Z"
    },
    "papermill": {
     "duration": 0.058993,
     "end_time": "2022-08-02T20:02:34.091472",
     "exception": false,
     "start_time": "2022-08-02T20:02:34.032479",
     "status": "completed"
    },
    "tags": []
   },
   "outputs": [
    {
     "data": {
      "text/plain": [
       "International Movies      31.25\n",
       "Dramas                    27.56\n",
       "Comedies                  19.01\n",
       "International TV Shows    15.34\n",
       "Documentaries              9.87\n",
       "Name: listed_in, dtype: float64"
      ]
     },
     "execution_count": 21,
     "metadata": {},
     "output_type": "execute_result"
    }
   ],
   "source": [
    "#Content listings - Genres\n",
    "df_listing = df['listed_in'].str.split(',')\n",
    "\n",
    "#split all the genres and divide by total no of contents\n",
    "xy = round(df_listing.explode().str.strip().value_counts().nlargest(5)*100/(df.count().show_id),2)\n",
    "xy"
   ]
  },
  {
   "cell_type": "markdown",
   "id": "b9e06587",
   "metadata": {
    "papermill": {
     "duration": 0.018748,
     "end_time": "2022-08-02T20:02:34.129411",
     "exception": false,
     "start_time": "2022-08-02T20:02:34.110663",
     "status": "completed"
    },
    "tags": []
   },
   "source": [
    "<h4 style=\"font-family:Arial ;\">This is percentage of overall content.</h4>\n",
    "<h4 style=\"font-family:Arial ;\">International Movies, Dramas,Comedies are the top 3 genres.</h4>"
   ]
  },
  {
   "cell_type": "markdown",
   "id": "006737bf",
   "metadata": {
    "papermill": {
     "duration": 0.018874,
     "end_time": "2022-08-02T20:02:34.167383",
     "exception": false,
     "start_time": "2022-08-02T20:02:34.148509",
     "status": "completed"
    },
    "tags": []
   },
   "source": [
    "<hr>"
   ]
  },
  {
   "cell_type": "markdown",
   "id": "dc777716",
   "metadata": {
    "papermill": {
     "duration": 0.018675,
     "end_time": "2022-08-02T20:02:34.205105",
     "exception": false,
     "start_time": "2022-08-02T20:02:34.186430",
     "status": "completed"
    },
    "tags": []
   },
   "source": [
    "<h3 style=\"font-family:Arial ;\">What is duration analysis of Movies?</h3>"
   ]
  },
  {
   "cell_type": "code",
   "execution_count": 22,
   "id": "57877d83",
   "metadata": {
    "execution": {
     "iopub.execute_input": "2022-08-02T20:02:34.245283Z",
     "iopub.status.busy": "2022-08-02T20:02:34.244474Z",
     "iopub.status.idle": "2022-08-02T20:02:34.283539Z",
     "shell.execute_reply": "2022-08-02T20:02:34.282433Z"
    },
    "papermill": {
     "duration": 0.061996,
     "end_time": "2022-08-02T20:02:34.286073",
     "exception": false,
     "start_time": "2022-08-02T20:02:34.224077",
     "status": "completed"
    },
    "tags": []
   },
   "outputs": [
    {
     "data": {
      "text/html": [
       "<div>\n",
       "<style scoped>\n",
       "    .dataframe tbody tr th:only-of-type {\n",
       "        vertical-align: middle;\n",
       "    }\n",
       "\n",
       "    .dataframe tbody tr th {\n",
       "        vertical-align: top;\n",
       "    }\n",
       "\n",
       "    .dataframe thead th {\n",
       "        text-align: right;\n",
       "    }\n",
       "</style>\n",
       "<table border=\"1\" class=\"dataframe\">\n",
       "  <thead>\n",
       "    <tr style=\"text-align: right;\">\n",
       "      <th></th>\n",
       "      <th>show_id</th>\n",
       "      <th>release_year</th>\n",
       "      <th>duration</th>\n",
       "    </tr>\n",
       "  </thead>\n",
       "  <tbody>\n",
       "    <tr>\n",
       "      <th>count</th>\n",
       "      <td>6128.000000</td>\n",
       "      <td>6128.000000</td>\n",
       "      <td>6128.000000</td>\n",
       "    </tr>\n",
       "    <tr>\n",
       "      <th>mean</th>\n",
       "      <td>4622.615862</td>\n",
       "      <td>2013.121084</td>\n",
       "      <td>99.577187</td>\n",
       "    </tr>\n",
       "    <tr>\n",
       "      <th>std</th>\n",
       "      <td>2581.341433</td>\n",
       "      <td>9.680300</td>\n",
       "      <td>28.290593</td>\n",
       "    </tr>\n",
       "    <tr>\n",
       "      <th>min</th>\n",
       "      <td>1.000000</td>\n",
       "      <td>1942.000000</td>\n",
       "      <td>3.000000</td>\n",
       "    </tr>\n",
       "    <tr>\n",
       "      <th>25%</th>\n",
       "      <td>2353.500000</td>\n",
       "      <td>2012.000000</td>\n",
       "      <td>87.000000</td>\n",
       "    </tr>\n",
       "    <tr>\n",
       "      <th>50%</th>\n",
       "      <td>4790.500000</td>\n",
       "      <td>2016.000000</td>\n",
       "      <td>98.000000</td>\n",
       "    </tr>\n",
       "    <tr>\n",
       "      <th>75%</th>\n",
       "      <td>6882.250000</td>\n",
       "      <td>2018.000000</td>\n",
       "      <td>114.000000</td>\n",
       "    </tr>\n",
       "    <tr>\n",
       "      <th>max</th>\n",
       "      <td>8807.000000</td>\n",
       "      <td>2021.000000</td>\n",
       "      <td>312.000000</td>\n",
       "    </tr>\n",
       "  </tbody>\n",
       "</table>\n",
       "</div>"
      ],
      "text/plain": [
       "           show_id  release_year     duration\n",
       "count  6128.000000   6128.000000  6128.000000\n",
       "mean   4622.615862   2013.121084    99.577187\n",
       "std    2581.341433      9.680300    28.290593\n",
       "min       1.000000   1942.000000     3.000000\n",
       "25%    2353.500000   2012.000000    87.000000\n",
       "50%    4790.500000   2016.000000    98.000000\n",
       "75%    6882.250000   2018.000000   114.000000\n",
       "max    8807.000000   2021.000000   312.000000"
      ]
     },
     "execution_count": 22,
     "metadata": {},
     "output_type": "execute_result"
    }
   ],
   "source": [
    "df_movies = df[((df['duration'].str.contains('min')) & (df['type']=='Movie'))]\n",
    "df_movies['duration'] = df_movies['duration'].str.replace(' min','').astype(int)\n",
    "df_movies.describe()"
   ]
  },
  {
   "cell_type": "markdown",
   "id": "b648dce6",
   "metadata": {
    "papermill": {
     "duration": 0.019374,
     "end_time": "2022-08-02T20:02:34.325072",
     "exception": false,
     "start_time": "2022-08-02T20:02:34.305698",
     "status": "completed"
    },
    "tags": []
   },
   "source": [
    "* <h4 style=\"font-family:Arial ;\">Average running time(duration) of movies : 100 min(1H40M)</h4> \n",
    "* <h4 style=\"font-family:Arial ;\">Shortest movie is of 3 min</h4> \n",
    "* <h4 style=\"font-family:Arial ;\">Longest movie is of 312 min(5H2M)</h4> \n",
    "* <h4 style=\"font-family:Arial ;\">Netflix has movies from year range 1942-2021</h4> "
   ]
  },
  {
   "cell_type": "code",
   "execution_count": 23,
   "id": "b43f8f88",
   "metadata": {
    "execution": {
     "iopub.execute_input": "2022-08-02T20:02:34.366516Z",
     "iopub.status.busy": "2022-08-02T20:02:34.366071Z",
     "iopub.status.idle": "2022-08-02T20:02:34.498287Z",
     "shell.execute_reply": "2022-08-02T20:02:34.496686Z"
    },
    "papermill": {
     "duration": 0.157085,
     "end_time": "2022-08-02T20:02:34.501922",
     "exception": false,
     "start_time": "2022-08-02T20:02:34.344837",
     "status": "completed"
    },
    "tags": []
   },
   "outputs": [
    {
     "data": {
      "image/png": "[encoded data removed]",
      "text/plain": [
       "<Figure size 432x432 with 1 Axes>"
      ]
     },
     "metadata": {},
     "output_type": "display_data"
    }
   ],
   "source": [
    "df_movies['duration'] = pd.cut(df_movies['duration'], [0,30,90,150,500], labels=['<30 min','30 min - 1.5 hr','1.5 - 2.5 hr','>2.5 hr'])\n",
    "xy = df_movies.groupby('duration').size()\n",
    "x = xy.index\n",
    "y = xy.values\n",
    "plt.figure(figsize=(6, 6))\n",
    "plt.pie(y,labels=x,autopct='%1.2f%%')\n",
    "plt.title(\"Duration wise Movies\")\n",
    "plt.show()"
   ]
  },
  {
   "cell_type": "markdown",
   "id": "b1b867ab",
   "metadata": {
    "papermill": {
     "duration": 0.030789,
     "end_time": "2022-08-02T20:02:34.566130",
     "exception": false,
     "start_time": "2022-08-02T20:02:34.535341",
     "status": "completed"
    },
    "tags": []
   },
   "source": [
    "* <h4 style=\"font-family:Arial ;\">Most of the movies have running time between 90 min to 150 min</h4> \n",
    "* <h4 style=\"font-family:Arial ;\">Very less number of short films/movies(less than 30min)</h4> \n",
    "* <h4 style=\"font-family:Arial ;\">Also, less number of long movies(150min+)</h4> "
   ]
  },
  {
   "cell_type": "markdown",
   "id": "74c7261f",
   "metadata": {
    "papermill": {
     "duration": 0.019364,
     "end_time": "2022-08-02T20:02:34.605956",
     "exception": false,
     "start_time": "2022-08-02T20:02:34.586592",
     "status": "completed"
    },
    "tags": []
   },
   "source": [
    "<hr>"
   ]
  },
  {
   "cell_type": "markdown",
   "id": "4c493be3",
   "metadata": {
    "papermill": {
     "duration": 0.019259,
     "end_time": "2022-08-02T20:02:34.645206",
     "exception": false,
     "start_time": "2022-08-02T20:02:34.625947",
     "status": "completed"
    },
    "tags": []
   },
   "source": [
    "<h3 style=\"font-family:Arial ;\">✅ Which TV show on Netflix have highest number of seasons?</h3> "
   ]
  },
  {
   "cell_type": "code",
   "execution_count": 24,
   "id": "5b925cb6",
   "metadata": {
    "execution": {
     "iopub.execute_input": "2022-08-02T20:02:34.687070Z",
     "iopub.status.busy": "2022-08-02T20:02:34.686211Z",
     "iopub.status.idle": "2022-08-02T20:02:34.705376Z",
     "shell.execute_reply": "2022-08-02T20:02:34.704147Z"
    },
    "papermill": {
     "duration": 0.042802,
     "end_time": "2022-08-02T20:02:34.707657",
     "exception": false,
     "start_time": "2022-08-02T20:02:34.664855",
     "status": "completed"
    },
    "tags": []
   },
   "outputs": [
    {
     "data": {
      "text/html": [
       "<div>\n",
       "<style scoped>\n",
       "    .dataframe tbody tr th:only-of-type {\n",
       "        vertical-align: middle;\n",
       "    }\n",
       "\n",
       "    .dataframe tbody tr th {\n",
       "        vertical-align: top;\n",
       "    }\n",
       "\n",
       "    .dataframe thead th {\n",
       "        text-align: right;\n",
       "    }\n",
       "</style>\n",
       "<table border=\"1\" class=\"dataframe\">\n",
       "  <thead>\n",
       "    <tr style=\"text-align: right;\">\n",
       "      <th></th>\n",
       "      <th>duration</th>\n",
       "      <th>0</th>\n",
       "    </tr>\n",
       "  </thead>\n",
       "  <tbody>\n",
       "    <tr>\n",
       "      <th>0</th>\n",
       "      <td>1 Season</td>\n",
       "      <td>1793</td>\n",
       "    </tr>\n",
       "    <tr>\n",
       "      <th>1</th>\n",
       "      <td>10 Seasons</td>\n",
       "      <td>7</td>\n",
       "    </tr>\n",
       "    <tr>\n",
       "      <th>2</th>\n",
       "      <td>11 Seasons</td>\n",
       "      <td>2</td>\n",
       "    </tr>\n",
       "    <tr>\n",
       "      <th>3</th>\n",
       "      <td>12 Seasons</td>\n",
       "      <td>2</td>\n",
       "    </tr>\n",
       "    <tr>\n",
       "      <th>4</th>\n",
       "      <td>13 Seasons</td>\n",
       "      <td>3</td>\n",
       "    </tr>\n",
       "    <tr>\n",
       "      <th>5</th>\n",
       "      <td>15 Seasons</td>\n",
       "      <td>2</td>\n",
       "    </tr>\n",
       "    <tr>\n",
       "      <th>6</th>\n",
       "      <td>17 Seasons</td>\n",
       "      <td>1</td>\n",
       "    </tr>\n",
       "    <tr>\n",
       "      <th>7</th>\n",
       "      <td>2 Seasons</td>\n",
       "      <td>425</td>\n",
       "    </tr>\n",
       "    <tr>\n",
       "      <th>8</th>\n",
       "      <td>3 Seasons</td>\n",
       "      <td>199</td>\n",
       "    </tr>\n",
       "    <tr>\n",
       "      <th>9</th>\n",
       "      <td>4 Seasons</td>\n",
       "      <td>95</td>\n",
       "    </tr>\n",
       "    <tr>\n",
       "      <th>10</th>\n",
       "      <td>5 Seasons</td>\n",
       "      <td>65</td>\n",
       "    </tr>\n",
       "    <tr>\n",
       "      <th>11</th>\n",
       "      <td>6 Seasons</td>\n",
       "      <td>33</td>\n",
       "    </tr>\n",
       "    <tr>\n",
       "      <th>12</th>\n",
       "      <td>7 Seasons</td>\n",
       "      <td>23</td>\n",
       "    </tr>\n",
       "    <tr>\n",
       "      <th>13</th>\n",
       "      <td>8 Seasons</td>\n",
       "      <td>17</td>\n",
       "    </tr>\n",
       "    <tr>\n",
       "      <th>14</th>\n",
       "      <td>9 Seasons</td>\n",
       "      <td>9</td>\n",
       "    </tr>\n",
       "  </tbody>\n",
       "</table>\n",
       "</div>"
      ],
      "text/plain": [
       "      duration     0\n",
       "0     1 Season  1793\n",
       "1   10 Seasons     7\n",
       "2   11 Seasons     2\n",
       "3   12 Seasons     2\n",
       "4   13 Seasons     3\n",
       "5   15 Seasons     2\n",
       "6   17 Seasons     1\n",
       "7    2 Seasons   425\n",
       "8    3 Seasons   199\n",
       "9    4 Seasons    95\n",
       "10   5 Seasons    65\n",
       "11   6 Seasons    33\n",
       "12   7 Seasons    23\n",
       "13   8 Seasons    17\n",
       "14   9 Seasons     9"
      ]
     },
     "execution_count": 24,
     "metadata": {},
     "output_type": "execute_result"
    }
   ],
   "source": [
    "df_tvshows = df[df['duration'].str.contains('Season')]\n",
    "df_tvshows.groupby('duration').size().reset_index()"
   ]
  },
  {
   "cell_type": "markdown",
   "id": "deb9715d",
   "metadata": {
    "papermill": {
     "duration": 0.019684,
     "end_time": "2022-08-02T20:02:34.747151",
     "exception": false,
     "start_time": "2022-08-02T20:02:34.727467",
     "status": "completed"
    },
    "tags": []
   },
   "source": [
    "> After looking above data, we can TV show with highest seasons have 17 Seasons. Let's find out which show is this?"
   ]
  },
  {
   "cell_type": "code",
   "execution_count": 25,
   "id": "77c3f8b0",
   "metadata": {
    "execution": {
     "iopub.execute_input": "2022-08-02T20:02:34.789988Z",
     "iopub.status.busy": "2022-08-02T20:02:34.789191Z",
     "iopub.status.idle": "2022-08-02T20:02:34.799608Z",
     "shell.execute_reply": "2022-08-02T20:02:34.798408Z"
    },
    "papermill": {
     "duration": 0.034508,
     "end_time": "2022-08-02T20:02:34.801997",
     "exception": false,
     "start_time": "2022-08-02T20:02:34.767489",
     "status": "completed"
    },
    "tags": []
   },
   "outputs": [
    {
     "data": {
      "text/plain": [
       "548    Grey's Anatomy\n",
       "Name: title, dtype: object"
      ]
     },
     "execution_count": 25,
     "metadata": {},
     "output_type": "execute_result"
    }
   ],
   "source": [
    "df[df['duration']=='17 Seasons']['title']"
   ]
  },
  {
   "cell_type": "markdown",
   "id": "992a7d36",
   "metadata": {
    "papermill": {
     "duration": 0.019964,
     "end_time": "2022-08-02T20:02:34.842759",
     "exception": false,
     "start_time": "2022-08-02T20:02:34.822795",
     "status": "completed"
    },
    "tags": []
   },
   "source": [
    "* <h4 style=\"font-family:Arial ;\">Grey's Anatomy has highest number of seasons(17)</h4> "
   ]
  },
  {
   "cell_type": "markdown",
   "id": "a27519cc",
   "metadata": {
    "papermill": {
     "duration": 0.019511,
     "end_time": "2022-08-02T20:02:34.882246",
     "exception": false,
     "start_time": "2022-08-02T20:02:34.862735",
     "status": "completed"
    },
    "tags": []
   },
   "source": [
    "<hr>"
   ]
  },
  {
   "cell_type": "markdown",
   "id": "1b475d5c",
   "metadata": {
    "papermill": {
     "duration": 0.019668,
     "end_time": "2022-08-02T20:02:34.921974",
     "exception": false,
     "start_time": "2022-08-02T20:02:34.902306",
     "status": "completed"
    },
    "tags": []
   },
   "source": [
    "<h3 style=\"font-family:Arial ;\">✅ Top 10 Movie directors on Netflix</h3>"
   ]
  },
  {
   "cell_type": "code",
   "execution_count": 26,
   "id": "40539686",
   "metadata": {
    "execution": {
     "iopub.execute_input": "2022-08-02T20:02:34.965438Z",
     "iopub.status.busy": "2022-08-02T20:02:34.964617Z",
     "iopub.status.idle": "2022-08-02T20:02:35.208688Z",
     "shell.execute_reply": "2022-08-02T20:02:35.207754Z"
    },
    "papermill": {
     "duration": 0.268863,
     "end_time": "2022-08-02T20:02:35.211012",
     "exception": false,
     "start_time": "2022-08-02T20:02:34.942149",
     "status": "completed"
    },
    "tags": []
   },
   "outputs": [
    {
     "data": {
      "image/png": "[encoded data removed]",
      "text/plain": [
       "<Figure size 720x360 with 1 Axes>"
      ]
     },
     "metadata": {
      "needs_background": "light"
     },
     "output_type": "display_data"
    }
   ],
   "source": [
    "#split director names\n",
    "df_directors = df[(df['director']!='NA') & (df['type']=='Movie')]['director'].str.split(',')\n",
    "#converting into new rows and count\n",
    "xy = df_directors.explode().str.strip().value_counts().nlargest(10)\n",
    "x = xy.index\n",
    "y = xy.values\n",
    "fig = plt.figure(figsize=(10, 5))\n",
    "plt.barh(x, y)\n",
    "for index, value in enumerate(y):\n",
    "    plt.text(value, index, str(value))\n",
    "plt.xlabel(\"No. of Movies\")\n",
    "plt.ylabel(\"Director\")\n",
    "plt.title(\"Top 10 Director of Movies on Netflix\")\n",
    "plt.show()"
   ]
  },
  {
   "cell_type": "markdown",
   "id": "21e4830d",
   "metadata": {
    "papermill": {
     "duration": 0.021038,
     "end_time": "2022-08-02T20:02:35.252426",
     "exception": false,
     "start_time": "2022-08-02T20:02:35.231388",
     "status": "completed"
    },
    "tags": []
   },
   "source": [
    "<h4 style=\"font-family:Arial ;\"><a href='https://en.wikipedia.org/wiki/Rajiv_Chilaka'>Rajiv Chilaka</a> is Top director with most number of movies.</h3> "
   ]
  },
  {
   "cell_type": "markdown",
   "id": "706e249d",
   "metadata": {
    "papermill": {
     "duration": 0.022392,
     "end_time": "2022-08-02T20:02:35.296823",
     "exception": false,
     "start_time": "2022-08-02T20:02:35.274431",
     "status": "completed"
    },
    "tags": []
   },
   "source": [
    "<hr>"
   ]
  },
  {
   "cell_type": "markdown",
   "id": "62c278dc",
   "metadata": {
    "execution": {
     "iopub.status.busy": "2022-08-02T15:16:43.360448Z",
     "iopub.status.idle": "2022-08-02T15:16:43.361411Z",
     "shell.execute_reply": "2022-08-02T15:16:43.361183Z",
     "shell.execute_reply.started": "2022-08-02T15:16:43.361152Z"
    },
    "papermill": {
     "duration": 0.021077,
     "end_time": "2022-08-02T20:02:35.339740",
     "exception": false,
     "start_time": "2022-08-02T20:02:35.318663",
     "status": "completed"
    },
    "tags": []
   },
   "source": [
    "<h3 style=\"font-family:Arial ;\">✅ Top 10 cast with most content on Netflix</h3> "
   ]
  },
  {
   "cell_type": "code",
   "execution_count": 27,
   "id": "d77fae21",
   "metadata": {
    "execution": {
     "iopub.execute_input": "2022-08-02T20:02:35.384557Z",
     "iopub.status.busy": "2022-08-02T20:02:35.384192Z",
     "iopub.status.idle": "2022-08-02T20:02:35.690299Z",
     "shell.execute_reply": "2022-08-02T20:02:35.689386Z"
    },
    "papermill": {
     "duration": 0.331193,
     "end_time": "2022-08-02T20:02:35.692649",
     "exception": false,
     "start_time": "2022-08-02T20:02:35.361456",
     "status": "completed"
    },
    "tags": []
   },
   "outputs": [
    {
     "data": {
      "image/png": "[encoded data removed]",
      "text/plain": [
       "<Figure size 720x360 with 1 Axes>"
      ]
     },
     "metadata": {
      "needs_background": "light"
     },
     "output_type": "display_data"
    }
   ],
   "source": [
    "#Top 10 cast with most content on Netflix\n",
    "df_cast = df[(df['cast']!='NA')]['cast'].str.split(',')\n",
    "\n",
    "xy = df_cast.explode().str.strip().value_counts().nlargest(10)\n",
    "x = xy.index\n",
    "y = xy.values\n",
    "fig = plt.figure(figsize=(10, 5))\n",
    "plt.barh(x, y)\n",
    "for index, value in enumerate(y):\n",
    "    plt.text(value, index, str(value))\n",
    "plt.xlabel(\"No. of Content\")\n",
    "plt.ylabel(\"Cast\")\n",
    "plt.title(\"Top 10 cast with most content on Netflix\")\n",
    "plt.show()"
   ]
  },
  {
   "cell_type": "markdown",
   "id": "3d804570",
   "metadata": {
    "papermill": {
     "duration": 0.021927,
     "end_time": "2022-08-02T20:02:35.736907",
     "exception": false,
     "start_time": "2022-08-02T20:02:35.714980",
     "status": "completed"
    },
    "tags": []
   },
   "source": [
    "* <h4 style=\"font-family:Arial ;\"><a href='https://en.wikipedia.org/wiki/Anupam_Kher'>Anupam Kher</a> is Top cast of Netflix</h4> "
   ]
  },
  {
   "cell_type": "markdown",
   "id": "932612e7",
   "metadata": {
    "papermill": {
     "duration": 0.022309,
     "end_time": "2022-08-02T20:02:35.781320",
     "exception": false,
     "start_time": "2022-08-02T20:02:35.759011",
     "status": "completed"
    },
    "tags": []
   },
   "source": [
    "<hr>"
   ]
  },
  {
   "cell_type": "markdown",
   "id": "755f3d97",
   "metadata": {
    "papermill": {
     "duration": 0.0217,
     "end_time": "2022-08-02T20:02:35.825097",
     "exception": false,
     "start_time": "2022-08-02T20:02:35.803397",
     "status": "completed"
    },
    "tags": []
   },
   "source": [
    "<h3 style=\"font-family:Arial ;\"> ❓ Any question left to be answered?</h3> \n",
    "<h3 style=\"font-family:Arial ;\"> ⭐ Feedback or reviews?</h3> \n",
    "<h3 style=\"font-family:Arial ;\"> ✍️ Write down in the comments...</h3>\n",
    "<br>\n",
    "<h3 style=\"font-family:Arial ;\"> If you really liked it, do upvote!⬆️</h3>\n",
    "<hr>\n",
    "<h3 style=\"font-family:Arial ;\"> Thank you so much for your time!❤️❤️❤️</h3>\n",
    "\n",
    "\n"
   ]
  }
 ],
 "metadata": {
  "kernelspec": {
   "display_name": "Python 3",
   "language": "python",
   "name": "python3"
  },
  "language_info": {
   "codemirror_mode": {
    "name": "ipython",
    "version": 3
   },
   "file_extension": ".py",
   "mimetype": "text/x-python",
   "name": "python",
   "nbconvert_exporter": "python",
   "pygments_lexer": "ipython3",
   "version": "3.7.12"
  },
  "papermill": {
   "default_parameters": {},
   "duration": 28.383025,
   "end_time": "2022-08-02T20:02:36.670733",
   "environment_variables": {},
   "exception": null,
   "input_path": "__notebook__.ipynb",
   "output_path": "__notebook__.ipynb",
   "parameters": {},
   "start_time": "2022-08-02T20:02:08.287708",
   "version": "2.3.4"
  }
 },
 "nbformat": 4,
 "nbformat_minor": 5
}
