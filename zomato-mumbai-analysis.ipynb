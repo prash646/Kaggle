{
 "cells": [
  {
   "cell_type": "markdown",
   "id": "9fec8b6f",
   "metadata": {
    "_cell_guid": "b1076dfc-b9ad-4769-8c92-a6c4dae69d19",
    "_uuid": "8f2839f25d086af736a60e9eeb907d3b93b6e0e5",
    "papermill": {
     "duration": 0.010804,
     "end_time": "2022-08-01T08:24:52.202275",
     "exception": false,
     "start_time": "2022-08-01T08:24:52.191471",
     "status": "completed"
    },
    "tags": []
   },
   "source": [
    "# Analysing Zomato Restaurants in Mumbai"
   ]
  },
  {
   "cell_type": "markdown",
   "id": "301f1aa2",
   "metadata": {
    "papermill": {
     "duration": 0.009269,
     "end_time": "2022-08-01T08:24:52.221356",
     "exception": false,
     "start_time": "2022-08-01T08:24:52.212087",
     "status": "completed"
    },
    "tags": []
   },
   "source": [
    "Dataset link : https://www.kaggle.com/datasets/sleepyowl007/zomato-mumbai-dataset"
   ]
  },
  {
   "cell_type": "markdown",
   "id": "74944ac0",
   "metadata": {
    "papermill": {
     "duration": 0.009714,
     "end_time": "2022-08-01T08:24:52.240730",
     "exception": false,
     "start_time": "2022-08-01T08:24:52.231016",
     "status": "completed"
    },
    "tags": []
   },
   "source": [
    "> Let's start!\n",
    "> * Less memory usage - Dropping not required column and changing data types\n",
    "> * Cleaning columns and giving meaningfull values to them\n",
    "> * Analysing the data\n",
    "> * Generating reports"
   ]
  },
  {
   "cell_type": "code",
   "execution_count": 1,
   "id": "59e29371",
   "metadata": {
    "execution": {
     "iopub.execute_input": "2022-08-01T08:24:52.262483Z",
     "iopub.status.busy": "2022-08-01T08:24:52.262118Z",
     "iopub.status.idle": "2022-08-01T08:24:52.272688Z",
     "shell.execute_reply": "2022-08-01T08:24:52.271965Z"
    },
    "papermill": {
     "duration": 0.02469,
     "end_time": "2022-08-01T08:24:52.275303",
     "exception": false,
     "start_time": "2022-08-01T08:24:52.250613",
     "status": "completed"
    },
    "tags": []
   },
   "outputs": [],
   "source": [
    "#importing packages\n",
    "import pandas as pd\n",
    "from matplotlib import pyplot as plt"
   ]
  },
  {
   "cell_type": "code",
   "execution_count": 2,
   "id": "10d0a092",
   "metadata": {
    "execution": {
     "iopub.execute_input": "2022-08-01T08:24:52.296707Z",
     "iopub.status.busy": "2022-08-01T08:24:52.296263Z",
     "iopub.status.idle": "2022-08-01T08:24:52.453769Z",
     "shell.execute_reply": "2022-08-01T08:24:52.452785Z"
    },
    "papermill": {
     "duration": 0.171374,
     "end_time": "2022-08-01T08:24:52.456539",
     "exception": false,
     "start_time": "2022-08-01T08:24:52.285165",
     "status": "completed"
    },
    "tags": []
   },
   "outputs": [
    {
     "data": {
      "text/html": [
       "<div>\n",
       "<style scoped>\n",
       "    .dataframe tbody tr th:only-of-type {\n",
       "        vertical-align: middle;\n",
       "    }\n",
       "\n",
       "    .dataframe tbody tr th {\n",
       "        vertical-align: top;\n",
       "    }\n",
       "\n",
       "    .dataframe thead th {\n",
       "        text-align: right;\n",
       "    }\n",
       "</style>\n",
       "<table border=\"1\" class=\"dataframe\">\n",
       "  <thead>\n",
       "    <tr style=\"text-align: right;\">\n",
       "      <th></th>\n",
       "      <th>NAME</th>\n",
       "      <th>PRICE</th>\n",
       "      <th>CUSINE_CATEGORY</th>\n",
       "      <th>CITY</th>\n",
       "      <th>REGION</th>\n",
       "      <th>URL</th>\n",
       "      <th>PAGE NO</th>\n",
       "      <th>CUSINE TYPE</th>\n",
       "      <th>TIMING</th>\n",
       "      <th>RATING_TYPE</th>\n",
       "      <th>RATING</th>\n",
       "      <th>VOTES</th>\n",
       "    </tr>\n",
       "  </thead>\n",
       "  <tbody>\n",
       "    <tr>\n",
       "      <th>0</th>\n",
       "      <td>Hitchki</td>\n",
       "      <td>1200</td>\n",
       "      <td>Modern Indian,North Indian,Chinese,Momos,Birya...</td>\n",
       "      <td>Mumbai</td>\n",
       "      <td>First International Financial Centre-- Bandra ...</td>\n",
       "      <td>https://www.zomato.com/mumbai/hitchki-bandra-k...</td>\n",
       "      <td>1</td>\n",
       "      <td>Casual Dining</td>\n",
       "      <td>12noon to 130am(Mon-Sun)</td>\n",
       "      <td>Excellent</td>\n",
       "      <td>4.9</td>\n",
       "      <td>3529</td>\n",
       "    </tr>\n",
       "    <tr>\n",
       "      <th>1</th>\n",
       "      <td>Baba Falooda</td>\n",
       "      <td>400</td>\n",
       "      <td>Desserts,Ice Cream,Beverages</td>\n",
       "      <td>Mumbai</td>\n",
       "      <td>Mahim</td>\n",
       "      <td>https://www.zomato.com/mumbai/baba-falooda-mah...</td>\n",
       "      <td>1</td>\n",
       "      <td>Dessert Parlor</td>\n",
       "      <td>2pm to 1am(Mon-Sun)</td>\n",
       "      <td>Very Good</td>\n",
       "      <td>4.4</td>\n",
       "      <td>1723</td>\n",
       "    </tr>\n",
       "    <tr>\n",
       "      <th>2</th>\n",
       "      <td>Chin Chin Chu</td>\n",
       "      <td>1800</td>\n",
       "      <td>Asian,Chinese</td>\n",
       "      <td>Mumbai</td>\n",
       "      <td>Juhu</td>\n",
       "      <td>https://www.zomato.com/mumbai/chin-chin-chu-ju...</td>\n",
       "      <td>1</td>\n",
       "      <td>Casual Dining</td>\n",
       "      <td>12noon to 1am(Mon-Sun)</td>\n",
       "      <td>Very Good</td>\n",
       "      <td>4.2</td>\n",
       "      <td>337</td>\n",
       "    </tr>\n",
       "    <tr>\n",
       "      <th>3</th>\n",
       "      <td>Butterfly High</td>\n",
       "      <td>1000</td>\n",
       "      <td>Modern Indian</td>\n",
       "      <td>Mumbai</td>\n",
       "      <td>Bandra Kurla Complex</td>\n",
       "      <td>https://www.zomato.com/mumbai/butterfly-high-b...</td>\n",
       "      <td>1</td>\n",
       "      <td>Bar</td>\n",
       "      <td>12noon to 130am(Mon-Sun)</td>\n",
       "      <td>Very Good</td>\n",
       "      <td>4.3</td>\n",
       "      <td>1200</td>\n",
       "    </tr>\n",
       "    <tr>\n",
       "      <th>4</th>\n",
       "      <td>BKC  DIVE</td>\n",
       "      <td>1200</td>\n",
       "      <td>North Indian,Chinese,Continental</td>\n",
       "      <td>Mumbai</td>\n",
       "      <td>Bandra Kurla Complex</td>\n",
       "      <td>https://www.zomato.com/mumbai/bkc-dive-bandra-...</td>\n",
       "      <td>1</td>\n",
       "      <td>Bar</td>\n",
       "      <td>1130am to 1am(Mon-Sun)</td>\n",
       "      <td>Veľmi dobré</td>\n",
       "      <td>4.4</td>\n",
       "      <td>5995</td>\n",
       "    </tr>\n",
       "  </tbody>\n",
       "</table>\n",
       "</div>"
      ],
      "text/plain": [
       "             NAME PRICE                                    CUSINE_CATEGORY  \\\n",
       "0         Hitchki  1200  Modern Indian,North Indian,Chinese,Momos,Birya...   \n",
       "1    Baba Falooda   400                       Desserts,Ice Cream,Beverages   \n",
       "2   Chin Chin Chu  1800                                      Asian,Chinese   \n",
       "3  Butterfly High  1000                                      Modern Indian   \n",
       "4       BKC  DIVE  1200                   North Indian,Chinese,Continental   \n",
       "\n",
       "     CITY                                             REGION  \\\n",
       "0  Mumbai  First International Financial Centre-- Bandra ...   \n",
       "1  Mumbai                                              Mahim   \n",
       "2  Mumbai                                               Juhu   \n",
       "3  Mumbai                               Bandra Kurla Complex   \n",
       "4  Mumbai                               Bandra Kurla Complex   \n",
       "\n",
       "                                                 URL PAGE NO     CUSINE TYPE  \\\n",
       "0  https://www.zomato.com/mumbai/hitchki-bandra-k...       1   Casual Dining   \n",
       "1  https://www.zomato.com/mumbai/baba-falooda-mah...       1  Dessert Parlor   \n",
       "2  https://www.zomato.com/mumbai/chin-chin-chu-ju...       1   Casual Dining   \n",
       "3  https://www.zomato.com/mumbai/butterfly-high-b...       1             Bar   \n",
       "4  https://www.zomato.com/mumbai/bkc-dive-bandra-...       1             Bar   \n",
       "\n",
       "                     TIMING  RATING_TYPE RATING VOTES  \n",
       "0  12noon to 130am(Mon-Sun)    Excellent    4.9  3529  \n",
       "1       2pm to 1am(Mon-Sun)    Very Good    4.4  1723  \n",
       "2    12noon to 1am(Mon-Sun)    Very Good    4.2   337  \n",
       "3  12noon to 130am(Mon-Sun)    Very Good    4.3  1200  \n",
       "4    1130am to 1am(Mon-Sun)  Veľmi dobré    4.4  5995  "
      ]
     },
     "execution_count": 2,
     "metadata": {},
     "output_type": "execute_result"
    }
   ],
   "source": [
    "#Reading dataset\n",
    "df = pd.read_csv('../input/zomato-mumbai-dataset/Zomato_Mumbai_Dataset.csv',delimiter='|')\n",
    "df.head()"
   ]
  },
  {
   "cell_type": "code",
   "execution_count": 3,
   "id": "b38eea0a",
   "metadata": {
    "execution": {
     "iopub.execute_input": "2022-08-01T08:24:52.478681Z",
     "iopub.status.busy": "2022-08-01T08:24:52.478345Z",
     "iopub.status.idle": "2022-08-01T08:24:52.483984Z",
     "shell.execute_reply": "2022-08-01T08:24:52.483097Z"
    },
    "papermill": {
     "duration": 0.019689,
     "end_time": "2022-08-01T08:24:52.486379",
     "exception": false,
     "start_time": "2022-08-01T08:24:52.466690",
     "status": "completed"
    },
    "tags": []
   },
   "outputs": [
    {
     "data": {
      "text/plain": [
       "(15081, 12)"
      ]
     },
     "execution_count": 3,
     "metadata": {},
     "output_type": "execute_result"
    }
   ],
   "source": [
    "#No of rows vs columns\n",
    "df.shape"
   ]
  },
  {
   "cell_type": "code",
   "execution_count": 4,
   "id": "1b300821",
   "metadata": {
    "execution": {
     "iopub.execute_input": "2022-08-01T08:24:52.508687Z",
     "iopub.status.busy": "2022-08-01T08:24:52.508339Z",
     "iopub.status.idle": "2022-08-01T08:24:52.528887Z",
     "shell.execute_reply": "2022-08-01T08:24:52.528287Z"
    },
    "papermill": {
     "duration": 0.035726,
     "end_time": "2022-08-01T08:24:52.532456",
     "exception": false,
     "start_time": "2022-08-01T08:24:52.496730",
     "status": "completed"
    },
    "tags": []
   },
   "outputs": [
    {
     "name": "stdout",
     "output_type": "stream",
     "text": [
      "<class 'pandas.core.frame.DataFrame'>\n",
      "RangeIndex: 15081 entries, 0 to 15080\n",
      "Columns: 12 entries, NAME to VOTES\n",
      "dtypes: object(12)\n",
      "memory usage: 1.4+ MB\n"
     ]
    }
   ],
   "source": [
    "#Initial memory usage\n",
    "df.info(verbose=False)"
   ]
  },
  {
   "cell_type": "code",
   "execution_count": 5,
   "id": "a21f030c",
   "metadata": {
    "execution": {
     "iopub.execute_input": "2022-08-01T08:24:52.555486Z",
     "iopub.status.busy": "2022-08-01T08:24:52.554979Z",
     "iopub.status.idle": "2022-08-01T08:24:52.600459Z",
     "shell.execute_reply": "2022-08-01T08:24:52.599310Z"
    },
    "papermill": {
     "duration": 0.060152,
     "end_time": "2022-08-01T08:24:52.603314",
     "exception": false,
     "start_time": "2022-08-01T08:24:52.543162",
     "status": "completed"
    },
    "tags": []
   },
   "outputs": [
    {
     "name": "stderr",
     "output_type": "stream",
     "text": [
      "/opt/conda/lib/python3.7/site-packages/ipykernel_launcher.py:2: FutureWarning: In a future version of pandas all arguments of DataFrame.dropna will be keyword-only\n",
      "  \n"
     ]
    },
    {
     "data": {
      "text/html": [
       "<div>\n",
       "<style scoped>\n",
       "    .dataframe tbody tr th:only-of-type {\n",
       "        vertical-align: middle;\n",
       "    }\n",
       "\n",
       "    .dataframe tbody tr th {\n",
       "        vertical-align: top;\n",
       "    }\n",
       "\n",
       "    .dataframe thead th {\n",
       "        text-align: right;\n",
       "    }\n",
       "</style>\n",
       "<table border=\"1\" class=\"dataframe\">\n",
       "  <thead>\n",
       "    <tr style=\"text-align: right;\">\n",
       "      <th></th>\n",
       "      <th>NAME</th>\n",
       "      <th>PRICE</th>\n",
       "      <th>CUSINE_CATEGORY</th>\n",
       "      <th>REGION</th>\n",
       "      <th>CUSINE TYPE</th>\n",
       "      <th>RATING_TYPE</th>\n",
       "      <th>RATING</th>\n",
       "    </tr>\n",
       "  </thead>\n",
       "  <tbody>\n",
       "    <tr>\n",
       "      <th>0</th>\n",
       "      <td>Hitchki</td>\n",
       "      <td>1200</td>\n",
       "      <td>Modern Indian,North Indian,Chinese,Momos,Birya...</td>\n",
       "      <td>First International Financial Centre-- Bandra ...</td>\n",
       "      <td>Casual Dining</td>\n",
       "      <td>Excellent</td>\n",
       "      <td>4.9</td>\n",
       "    </tr>\n",
       "    <tr>\n",
       "      <th>1</th>\n",
       "      <td>Baba Falooda</td>\n",
       "      <td>400</td>\n",
       "      <td>Desserts,Ice Cream,Beverages</td>\n",
       "      <td>Mahim</td>\n",
       "      <td>Dessert Parlor</td>\n",
       "      <td>Very Good</td>\n",
       "      <td>4.4</td>\n",
       "    </tr>\n",
       "    <tr>\n",
       "      <th>2</th>\n",
       "      <td>Chin Chin Chu</td>\n",
       "      <td>1800</td>\n",
       "      <td>Asian,Chinese</td>\n",
       "      <td>Juhu</td>\n",
       "      <td>Casual Dining</td>\n",
       "      <td>Very Good</td>\n",
       "      <td>4.2</td>\n",
       "    </tr>\n",
       "    <tr>\n",
       "      <th>3</th>\n",
       "      <td>Butterfly High</td>\n",
       "      <td>1000</td>\n",
       "      <td>Modern Indian</td>\n",
       "      <td>Bandra Kurla Complex</td>\n",
       "      <td>Bar</td>\n",
       "      <td>Very Good</td>\n",
       "      <td>4.3</td>\n",
       "    </tr>\n",
       "    <tr>\n",
       "      <th>4</th>\n",
       "      <td>BKC  DIVE</td>\n",
       "      <td>1200</td>\n",
       "      <td>North Indian,Chinese,Continental</td>\n",
       "      <td>Bandra Kurla Complex</td>\n",
       "      <td>Bar</td>\n",
       "      <td>Veľmi dobré</td>\n",
       "      <td>4.4</td>\n",
       "    </tr>\n",
       "  </tbody>\n",
       "</table>\n",
       "</div>"
      ],
      "text/plain": [
       "             NAME PRICE                                    CUSINE_CATEGORY  \\\n",
       "0         Hitchki  1200  Modern Indian,North Indian,Chinese,Momos,Birya...   \n",
       "1    Baba Falooda   400                       Desserts,Ice Cream,Beverages   \n",
       "2   Chin Chin Chu  1800                                      Asian,Chinese   \n",
       "3  Butterfly High  1000                                      Modern Indian   \n",
       "4       BKC  DIVE  1200                   North Indian,Chinese,Continental   \n",
       "\n",
       "                                              REGION     CUSINE TYPE  \\\n",
       "0  First International Financial Centre-- Bandra ...   Casual Dining   \n",
       "1                                              Mahim  Dessert Parlor   \n",
       "2                                               Juhu   Casual Dining   \n",
       "3                               Bandra Kurla Complex             Bar   \n",
       "4                               Bandra Kurla Complex             Bar   \n",
       "\n",
       "   RATING_TYPE RATING  \n",
       "0    Excellent    4.9  \n",
       "1    Very Good    4.4  \n",
       "2    Very Good    4.2  \n",
       "3    Very Good    4.3  \n",
       "4  Veľmi dobré    4.4  "
      ]
     },
     "execution_count": 5,
     "metadata": {},
     "output_type": "execute_result"
    }
   ],
   "source": [
    "#drop Duplicates and null values\n",
    "df.dropna(0,'any',inplace=True)\n",
    "\n",
    "df.drop_duplicates(inplace=True,keep=False)\n",
    "\n",
    "df.drop(columns=['CITY','URL','PAGE NO','TIMING','VOTES'],inplace=True)\n",
    "\n",
    "df.head(5)"
   ]
  },
  {
   "cell_type": "code",
   "execution_count": 6,
   "id": "2571812d",
   "metadata": {
    "execution": {
     "iopub.execute_input": "2022-08-01T08:24:52.626690Z",
     "iopub.status.busy": "2022-08-01T08:24:52.626377Z",
     "iopub.status.idle": "2022-08-01T08:24:52.637551Z",
     "shell.execute_reply": "2022-08-01T08:24:52.636269Z"
    },
    "papermill": {
     "duration": 0.025038,
     "end_time": "2022-08-01T08:24:52.639443",
     "exception": false,
     "start_time": "2022-08-01T08:24:52.614405",
     "status": "completed"
    },
    "tags": []
   },
   "outputs": [
    {
     "data": {
      "text/html": [
       "<div>\n",
       "<style scoped>\n",
       "    .dataframe tbody tr th:only-of-type {\n",
       "        vertical-align: middle;\n",
       "    }\n",
       "\n",
       "    .dataframe tbody tr th {\n",
       "        vertical-align: top;\n",
       "    }\n",
       "\n",
       "    .dataframe thead th {\n",
       "        text-align: right;\n",
       "    }\n",
       "</style>\n",
       "<table border=\"1\" class=\"dataframe\">\n",
       "  <thead>\n",
       "    <tr style=\"text-align: right;\">\n",
       "      <th></th>\n",
       "      <th>NAME</th>\n",
       "      <th>PRICE</th>\n",
       "      <th>CUISINE_CATEGORY</th>\n",
       "      <th>REGION</th>\n",
       "      <th>OUTLET_TYPE</th>\n",
       "      <th>REVIEWS</th>\n",
       "      <th>RATING</th>\n",
       "    </tr>\n",
       "  </thead>\n",
       "  <tbody>\n",
       "    <tr>\n",
       "      <th>0</th>\n",
       "      <td>Hitchki</td>\n",
       "      <td>1200</td>\n",
       "      <td>Modern Indian,North Indian,Chinese,Momos,Birya...</td>\n",
       "      <td>First International Financial Centre-- Bandra ...</td>\n",
       "      <td>Casual Dining</td>\n",
       "      <td>Excellent</td>\n",
       "      <td>4.9</td>\n",
       "    </tr>\n",
       "    <tr>\n",
       "      <th>1</th>\n",
       "      <td>Baba Falooda</td>\n",
       "      <td>400</td>\n",
       "      <td>Desserts,Ice Cream,Beverages</td>\n",
       "      <td>Mahim</td>\n",
       "      <td>Dessert Parlor</td>\n",
       "      <td>Very Good</td>\n",
       "      <td>4.4</td>\n",
       "    </tr>\n",
       "    <tr>\n",
       "      <th>2</th>\n",
       "      <td>Chin Chin Chu</td>\n",
       "      <td>1800</td>\n",
       "      <td>Asian,Chinese</td>\n",
       "      <td>Juhu</td>\n",
       "      <td>Casual Dining</td>\n",
       "      <td>Very Good</td>\n",
       "      <td>4.2</td>\n",
       "    </tr>\n",
       "    <tr>\n",
       "      <th>3</th>\n",
       "      <td>Butterfly High</td>\n",
       "      <td>1000</td>\n",
       "      <td>Modern Indian</td>\n",
       "      <td>Bandra Kurla Complex</td>\n",
       "      <td>Bar</td>\n",
       "      <td>Very Good</td>\n",
       "      <td>4.3</td>\n",
       "    </tr>\n",
       "    <tr>\n",
       "      <th>4</th>\n",
       "      <td>BKC  DIVE</td>\n",
       "      <td>1200</td>\n",
       "      <td>North Indian,Chinese,Continental</td>\n",
       "      <td>Bandra Kurla Complex</td>\n",
       "      <td>Bar</td>\n",
       "      <td>Veľmi dobré</td>\n",
       "      <td>4.4</td>\n",
       "    </tr>\n",
       "  </tbody>\n",
       "</table>\n",
       "</div>"
      ],
      "text/plain": [
       "             NAME PRICE                                   CUISINE_CATEGORY  \\\n",
       "0         Hitchki  1200  Modern Indian,North Indian,Chinese,Momos,Birya...   \n",
       "1    Baba Falooda   400                       Desserts,Ice Cream,Beverages   \n",
       "2   Chin Chin Chu  1800                                      Asian,Chinese   \n",
       "3  Butterfly High  1000                                      Modern Indian   \n",
       "4       BKC  DIVE  1200                   North Indian,Chinese,Continental   \n",
       "\n",
       "                                              REGION     OUTLET_TYPE  \\\n",
       "0  First International Financial Centre-- Bandra ...   Casual Dining   \n",
       "1                                              Mahim  Dessert Parlor   \n",
       "2                                               Juhu   Casual Dining   \n",
       "3                               Bandra Kurla Complex             Bar   \n",
       "4                               Bandra Kurla Complex             Bar   \n",
       "\n",
       "       REVIEWS RATING  \n",
       "0    Excellent    4.9  \n",
       "1    Very Good    4.4  \n",
       "2    Very Good    4.2  \n",
       "3    Very Good    4.3  \n",
       "4  Veľmi dobré    4.4  "
      ]
     },
     "execution_count": 6,
     "metadata": {},
     "output_type": "execute_result"
    }
   ],
   "source": [
    "#Rename columns\n",
    "df.rename({'CUSINE_CATEGORY' : 'CUISINE_CATEGORY', 'CUSINE TYPE' : 'OUTLET_TYPE', 'RATING_TYPE': 'REVIEWS'},axis=1, inplace=True)\n",
    "\n",
    "df.head()"
   ]
  },
  {
   "cell_type": "code",
   "execution_count": 7,
   "id": "da54e7e7",
   "metadata": {
    "execution": {
     "iopub.execute_input": "2022-08-01T08:24:52.656487Z",
     "iopub.status.busy": "2022-08-01T08:24:52.655639Z",
     "iopub.status.idle": "2022-08-01T08:24:52.934775Z",
     "shell.execute_reply": "2022-08-01T08:24:52.933637Z"
    },
    "papermill": {
     "duration": 0.290523,
     "end_time": "2022-08-01T08:24:52.937327",
     "exception": false,
     "start_time": "2022-08-01T08:24:52.646804",
     "status": "completed"
    },
    "tags": []
   },
   "outputs": [
    {
     "data": {
      "text/plain": [
       "array(['4.9', '4.4', '4.2', '4.3', '4.5', '4.7', '4.0', '4.6', '4.1',\n",
       "       '3.9', '3.8', 0, '3.6', '3.4', '3.0', '3.7', '4.8', '3.3', '3.5',\n",
       "       '3.2', '3.1', '2.7', '2.5', '2.8', '2.6', '2.3', '2.9', '2.4',\n",
       "       '2.1', '2.2', '1.8', '2.0'], dtype=object)"
      ]
     },
     "execution_count": 7,
     "metadata": {},
     "output_type": "execute_result"
    }
   ],
   "source": [
    "#Cleaning Rating column\n",
    "df['RATING'] = df.apply(lambda x: 0 if x['RATING'] in ['-','NEW','Opening'] else x['RATING'], axis=1)\n",
    "df['RATING'].unique()"
   ]
  },
  {
   "cell_type": "code",
   "execution_count": 8,
   "id": "2c648932",
   "metadata": {
    "execution": {
     "iopub.execute_input": "2022-08-01T08:24:52.953603Z",
     "iopub.status.busy": "2022-08-01T08:24:52.953246Z",
     "iopub.status.idle": "2022-08-01T08:24:52.962419Z",
     "shell.execute_reply": "2022-08-01T08:24:52.961352Z"
    },
    "papermill": {
     "duration": 0.020946,
     "end_time": "2022-08-01T08:24:52.965509",
     "exception": false,
     "start_time": "2022-08-01T08:24:52.944563",
     "status": "completed"
    },
    "tags": []
   },
   "outputs": [
    {
     "data": {
      "text/plain": [
       "array(['1200', '400', '1800', '1000', '800', '1300', '1500', '600',\n",
       "       '1400', '1100', '2000', '350', '900', '700', '500', '1600', '150',\n",
       "       '300', '550', '450', '650', '750', '250', '200', '850', '100',\n",
       "       '2500', '1450', '180', '950', '1700', '1900', '2600', '2400',\n",
       "       '3000', '1250', '3200', '505', '2200', '1050', '1650', '1350',\n",
       "       '50', '920', '1150', '1550', '3500', '398', '5000', '120', '220',\n",
       "       '160', '340', '5', '480', '2100', '580', '1850', '249', '80',\n",
       "       '2300', '360', '3502', '248', '2700', '0'], dtype=object)"
      ]
     },
     "execution_count": 8,
     "metadata": {},
     "output_type": "execute_result"
    }
   ],
   "source": [
    "#Cleaning PRICE column\n",
    "df['PRICE'].unique()\n",
    "#already cleaned"
   ]
  },
  {
   "cell_type": "code",
   "execution_count": 9,
   "id": "365a20c8",
   "metadata": {
    "execution": {
     "iopub.execute_input": "2022-08-01T08:24:52.990843Z",
     "iopub.status.busy": "2022-08-01T08:24:52.990225Z",
     "iopub.status.idle": "2022-08-01T08:24:53.016743Z",
     "shell.execute_reply": "2022-08-01T08:24:53.016160Z"
    },
    "papermill": {
     "duration": 0.041683,
     "end_time": "2022-08-01T08:24:53.018576",
     "exception": false,
     "start_time": "2022-08-01T08:24:52.976893",
     "status": "completed"
    },
    "tags": []
   },
   "outputs": [
    {
     "data": {
      "text/plain": [
       "array(['Excellent', 'Very Good', 'Good', 'Not rated', 'Not Rated',\n",
       "       'Average', 'Poor', 'Very Poor'], dtype=object)"
      ]
     },
     "execution_count": 9,
     "metadata": {},
     "output_type": "execute_result"
    }
   ],
   "source": [
    "#Cleaning REVIEWS column\n",
    "df['REVIEWS'].replace(to_replace='Excelente' , value='Excellent', inplace=True)\n",
    "df['REVIEWS'].replace(to_replace=['Veľmi dobré','Bardzo dobrze','Muy Bueno','Velmi dobré'] , value='Very Good', inplace=True)\n",
    "df['REVIEWS'].replace(to_replace=['Skvělá volba','Dobrze','Bueno','Buono','Dobré','Bom','Skvělé'] , value='Good', inplace=True)\n",
    "df['REVIEWS'].replace(to_replace=['Priemer','Média','Çok iyi'] , value='Average', inplace=True)\n",
    "df['REVIEWS'].replace(to_replace=['Průměr','Promedio','Ortalama','Muito Bom','İyi'] , value='Poor', inplace=True)\n",
    "df['REVIEWS'].replace(to_replace=['Baik','Biasa','Media','Sangat Baik'] , value='Very Poor', inplace=True)\n",
    "df['REVIEWS'].replace(to_replace=['None'] , value='Not Rated', inplace=True)\n",
    "df['REVIEWS'].unique()"
   ]
  },
  {
   "cell_type": "code",
   "execution_count": 10,
   "id": "46bde48c",
   "metadata": {
    "execution": {
     "iopub.execute_input": "2022-08-01T08:24:53.042823Z",
     "iopub.status.busy": "2022-08-01T08:24:53.042538Z",
     "iopub.status.idle": "2022-08-01T08:24:53.071354Z",
     "shell.execute_reply": "2022-08-01T08:24:53.070189Z"
    },
    "papermill": {
     "duration": 0.043693,
     "end_time": "2022-08-01T08:24:53.073987",
     "exception": false,
     "start_time": "2022-08-01T08:24:53.030294",
     "status": "completed"
    },
    "tags": []
   },
   "outputs": [],
   "source": [
    "#Cleaning REGION Column - 1\n",
    "df['REGION'] = df['REGION'].str.replace('[a-zA-Z].+-- ','',regex=True)\n",
    "df['REGION'] = df['REGION'].str.replace(' West| west| East| east','',regex=True)"
   ]
  },
  {
   "cell_type": "code",
   "execution_count": 11,
   "id": "3001a515",
   "metadata": {
    "execution": {
     "iopub.execute_input": "2022-08-01T08:24:53.098740Z",
     "iopub.status.busy": "2022-08-01T08:24:53.098294Z",
     "iopub.status.idle": "2022-08-01T08:24:53.199796Z",
     "shell.execute_reply": "2022-08-01T08:24:53.198868Z"
    },
    "papermill": {
     "duration": 0.116793,
     "end_time": "2022-08-01T08:24:53.202345",
     "exception": false,
     "start_time": "2022-08-01T08:24:53.085552",
     "status": "completed"
    },
    "tags": []
   },
   "outputs": [],
   "source": [
    "#Cleaning REGION column - 2, replacing with base region\n",
    "df['REGION'] = df['REGION'].str.replace('4 Bungalows|7 Andheri|Azad Nagar|Near Andheri Station|Veera Desai Area|Mahakali','Andheri',regex=True)\n",
    "df['REGION'] = df['REGION'].str.replace('Bandra Kurla Complex','Bandra',regex=True)\n",
    "df['REGION'] = df['REGION'].str.replace('CBD-Belapur','CBD Belapur',regex=True)\n",
    "df['REGION'] = df['REGION'].str.replace('Girgaon Chowpatty','Chowpatty',regex=True)\n",
    "df['REGION'] = df['REGION'].str.replace('Dadar Shivaji Park','Dadar',regex=True)\n",
    "df['REGION'] = df['REGION'].str.replace('Flea Bazaar Café|Kamala Mills Compound','Lower Parel',regex=True)\n",
    "df['REGION'] = df['REGION'].str.replace('Runwal Green','Mulund',regex=True)\n",
    "df['REGION'] = df['REGION'].str.replace('Mumbai CST Area','Mumbai Central',regex=True)\n",
    "df['REGION'] = df['REGION'].str.replace('Kopar Khairane|Seawoods|Turbhe|Ulwe','Navi Mumbai',regex=True)\n",
    "df['REGION'] = df['REGION'].str.replace('New Panvel|Old Panvel','Panvel',regex=True)\n",
    "df['REGION'] = df['REGION'].str.replace('Kamothe','Sion',regex=True)\n",
    "df['REGION'] = df['REGION'].str.replace('Ghodbunder Road|Majiwada','Thane',regex=True)"
   ]
  },
  {
   "cell_type": "code",
   "execution_count": 12,
   "id": "e80e4c72",
   "metadata": {
    "execution": {
     "iopub.execute_input": "2022-08-01T08:24:53.226781Z",
     "iopub.status.busy": "2022-08-01T08:24:53.226448Z",
     "iopub.status.idle": "2022-08-01T08:24:53.234134Z",
     "shell.execute_reply": "2022-08-01T08:24:53.232887Z"
    },
    "papermill": {
     "duration": 0.022439,
     "end_time": "2022-08-01T08:24:53.236332",
     "exception": false,
     "start_time": "2022-08-01T08:24:53.213893",
     "status": "completed"
    },
    "tags": []
   },
   "outputs": [
    {
     "data": {
      "text/plain": [
       "array(['Bandra', 'Mahim', 'Juhu', 'Lower Parel', 'Marol', 'Andheri',\n",
       "       'Dadar', 'Khar', 'Mumbai Central', 'Bhandup', 'Malad', 'Powai',\n",
       "       'Chembur', 'Goregaon', 'Vile Parle', 'CBD Belapur', 'Ghansoli',\n",
       "       'Borivali', 'Vasai', 'Thane', 'Worli', 'Parel', 'Colaba',\n",
       "       'Nariman Point', 'Santacruz', 'Mulund', 'Kandivali', 'Airoli',\n",
       "       'Mira Road', 'Fort', 'Jogeshwari', 'Vashi', 'Ghatkopar',\n",
       "       'Sakinaka', 'Byculla', 'Kalyan', 'Bhayandar', 'Charni Road',\n",
       "       'Chandivali', 'Kurla', 'Mohammad Ali Road', 'Kharghar', 'Matunga',\n",
       "       'Ulhasnagar', 'Navi Mumbai', 'Dahisar', 'Chowpatty', 'Panvel',\n",
       "       'Sion', 'Tardeo', 'Mazgaon', 'Prabhadevi', 'Sanpada', 'Virar',\n",
       "       'Girgaum', 'Mumbra', 'Marve', 'Chakala', 'Marine Lines',\n",
       "       'Mahalaxmi', 'Nalasopara', 'Kalwa', 'Nerul', 'Grant Road',\n",
       "       'Breach Candy', 'Churchgate', 'Vikhroli', 'Kalbadevi', 'Dombivali',\n",
       "       'Kemps Corner', 'Malabar Hill', 'Kalamboli', 'Wadala', 'Alibaug',\n",
       "       'Peddar Road', 'Ambernath', 'Gorai', 'Sewri', 'Cuffe Parade',\n",
       "       'Trombay'], dtype=object)"
      ]
     },
     "execution_count": 12,
     "metadata": {},
     "output_type": "execute_result"
    }
   ],
   "source": [
    "df['REGION'].unique()"
   ]
  },
  {
   "cell_type": "code",
   "execution_count": 13,
   "id": "c6e0d64d",
   "metadata": {
    "execution": {
     "iopub.execute_input": "2022-08-01T08:24:53.261101Z",
     "iopub.status.busy": "2022-08-01T08:24:53.260603Z",
     "iopub.status.idle": "2022-08-01T08:24:53.272541Z",
     "shell.execute_reply": "2022-08-01T08:24:53.271559Z"
    },
    "papermill": {
     "duration": 0.026673,
     "end_time": "2022-08-01T08:24:53.274639",
     "exception": false,
     "start_time": "2022-08-01T08:24:53.247966",
     "status": "completed"
    },
    "tags": []
   },
   "outputs": [
    {
     "data": {
      "text/plain": [
       "NAME                0\n",
       "PRICE               0\n",
       "CUISINE_CATEGORY    0\n",
       "REGION              0\n",
       "OUTLET_TYPE         0\n",
       "REVIEWS             0\n",
       "RATING              0\n",
       "dtype: int64"
      ]
     },
     "execution_count": 13,
     "metadata": {},
     "output_type": "execute_result"
    }
   ],
   "source": [
    "#Checking if null values\n",
    "df.isnull().sum()"
   ]
  },
  {
   "cell_type": "code",
   "execution_count": 14,
   "id": "bdc1b2c8",
   "metadata": {
    "execution": {
     "iopub.execute_input": "2022-08-01T08:24:53.300011Z",
     "iopub.status.busy": "2022-08-01T08:24:53.299724Z",
     "iopub.status.idle": "2022-08-01T08:24:53.311885Z",
     "shell.execute_reply": "2022-08-01T08:24:53.311086Z"
    },
    "papermill": {
     "duration": 0.027798,
     "end_time": "2022-08-01T08:24:53.314291",
     "exception": false,
     "start_time": "2022-08-01T08:24:53.286493",
     "status": "completed"
    },
    "tags": []
   },
   "outputs": [],
   "source": [
    "#Change datatypes of columns\n",
    "df = df.astype({'NAME':str, 'PRICE':int, 'CUISINE_CATEGORY':str, 'OUTLET_TYPE':'category','REVIEWS':'category', 'RATING':float})"
   ]
  },
  {
   "cell_type": "code",
   "execution_count": 15,
   "id": "50144e0f",
   "metadata": {
    "execution": {
     "iopub.execute_input": "2022-08-01T08:24:53.340327Z",
     "iopub.status.busy": "2022-08-01T08:24:53.339951Z",
     "iopub.status.idle": "2022-08-01T08:24:53.350622Z",
     "shell.execute_reply": "2022-08-01T08:24:53.349069Z"
    },
    "papermill": {
     "duration": 0.026318,
     "end_time": "2022-08-01T08:24:53.352849",
     "exception": false,
     "start_time": "2022-08-01T08:24:53.326531",
     "status": "completed"
    },
    "tags": []
   },
   "outputs": [
    {
     "name": "stdout",
     "output_type": "stream",
     "text": [
      "<class 'pandas.core.frame.DataFrame'>\n",
      "Int64Index: 14072 entries, 0 to 15079\n",
      "Columns: 7 entries, NAME to RATING\n",
      "dtypes: category(2), float64(1), int64(1), object(3)\n",
      "memory usage: 688.2+ KB\n"
     ]
    }
   ],
   "source": [
    "#Less memory usage\n",
    "df.info(verbose=False)"
   ]
  },
  {
   "cell_type": "code",
   "execution_count": 16,
   "id": "a7421505",
   "metadata": {
    "execution": {
     "iopub.execute_input": "2022-08-01T08:24:53.369589Z",
     "iopub.status.busy": "2022-08-01T08:24:53.369220Z",
     "iopub.status.idle": "2022-08-01T08:24:53.380881Z",
     "shell.execute_reply": "2022-08-01T08:24:53.380082Z"
    },
    "papermill": {
     "duration": 0.021854,
     "end_time": "2022-08-01T08:24:53.382426",
     "exception": false,
     "start_time": "2022-08-01T08:24:53.360572",
     "status": "completed"
    },
    "tags": []
   },
   "outputs": [
    {
     "data": {
      "text/plain": [
       "0-500        9947\n",
       "500-1000     3511\n",
       "1000-3000     584\n",
       "3000-5000       4\n",
       "Name: PRICE, dtype: int64"
      ]
     },
     "execution_count": 16,
     "metadata": {},
     "output_type": "execute_result"
    }
   ],
   "source": [
    "#Finding price ranges for restaurants\n",
    "df['PRICE'] = pd.cut(df['PRICE'], [0,500,1000,3000,5000], labels=['0-500','500-1000','1000-3000','3000-5000'])\n",
    "df['PRICE'].value_counts()"
   ]
  },
  {
   "cell_type": "code",
   "execution_count": 17,
   "id": "fb00a0e9",
   "metadata": {
    "execution": {
     "iopub.execute_input": "2022-08-01T08:24:53.399828Z",
     "iopub.status.busy": "2022-08-01T08:24:53.398202Z",
     "iopub.status.idle": "2022-08-01T08:24:53.586023Z",
     "shell.execute_reply": "2022-08-01T08:24:53.584891Z"
    },
    "papermill": {
     "duration": 0.199263,
     "end_time": "2022-08-01T08:24:53.589086",
     "exception": false,
     "start_time": "2022-08-01T08:24:53.389823",
     "status": "completed"
    },
    "tags": []
   },
   "outputs": [
    {
     "data": {
      "image/png": "[encoded data removed]",
      "text/plain": [
       "<Figure size 720x288 with 1 Axes>"
      ]
     },
     "metadata": {
      "needs_background": "light"
     },
     "output_type": "display_data"
    }
   ],
   "source": [
    "#Plotting Graph between no. of restaurant and price range\n",
    "x = df['PRICE'].value_counts().index\n",
    "y = df['PRICE'].value_counts().values\n",
    "plt.figure(figsize=(10, 4))\n",
    "plt.barh(x,y)\n",
    "plt.title(\"No of restaurants in Price Range\")\n",
    "plt.xlabel(\"Price Range\")\n",
    "plt.ylabel(\"No of restaurants\")\n",
    "for index, value in enumerate(y):\n",
    "    plt.text(value, index, str(value))\n",
    "plt.show()"
   ]
  },
  {
   "cell_type": "code",
   "execution_count": 18,
   "id": "576986d8",
   "metadata": {
    "execution": {
     "iopub.execute_input": "2022-08-01T08:24:53.616457Z",
     "iopub.status.busy": "2022-08-01T08:24:53.615982Z",
     "iopub.status.idle": "2022-08-01T08:24:53.627393Z",
     "shell.execute_reply": "2022-08-01T08:24:53.626300Z"
    },
    "papermill": {
     "duration": 0.027163,
     "end_time": "2022-08-01T08:24:53.629021",
     "exception": false,
     "start_time": "2022-08-01T08:24:53.601858",
     "status": "completed"
    },
    "tags": []
   },
   "outputs": [
    {
     "data": {
      "text/plain": [
       "Medium    8248\n",
       "Low       1670\n",
       "High       841\n",
       "Name: RATING, dtype: int64"
      ]
     },
     "execution_count": 18,
     "metadata": {},
     "output_type": "execute_result"
    }
   ],
   "source": [
    "#Grouping Rating in three categories\n",
    "df['RATING'] = pd.cut(df['RATING'], [2,3,4,5], labels=['Low','Medium','High'])\n",
    "df['RATING'].value_counts()"
   ]
  },
  {
   "cell_type": "code",
   "execution_count": 19,
   "id": "62cdd470",
   "metadata": {
    "execution": {
     "iopub.execute_input": "2022-08-01T08:24:53.648204Z",
     "iopub.status.busy": "2022-08-01T08:24:53.646371Z",
     "iopub.status.idle": "2022-08-01T08:24:53.750721Z",
     "shell.execute_reply": "2022-08-01T08:24:53.749897Z"
    },
    "papermill": {
     "duration": 0.116368,
     "end_time": "2022-08-01T08:24:53.753657",
     "exception": false,
     "start_time": "2022-08-01T08:24:53.637289",
     "status": "completed"
    },
    "tags": []
   },
   "outputs": [
    {
     "data": {
      "image/png": "[encoded data removed]",
      "text/plain": [
       "<Figure size 432x432 with 1 Axes>"
      ]
     },
     "metadata": {},
     "output_type": "display_data"
    }
   ],
   "source": [
    "#Plotting Graph for percentage of restaurants as per ratings\n",
    "x = df['RATING'].value_counts().index\n",
    "y = df['RATING'].value_counts().values\n",
    "plt.figure(figsize=(6, 6))\n",
    "plt.pie(y,labels=x,colors=['#B7C3F3', '#DD7596', '#8EB897'],autopct='%1.2f%%')\n",
    "plt.title(\"Rating of Restaurants\")\n",
    "plt.show()"
   ]
  },
  {
   "cell_type": "code",
   "execution_count": 20,
   "id": "d48789e4",
   "metadata": {
    "execution": {
     "iopub.execute_input": "2022-08-01T08:24:53.778847Z",
     "iopub.status.busy": "2022-08-01T08:24:53.778193Z",
     "iopub.status.idle": "2022-08-01T08:24:53.790255Z",
     "shell.execute_reply": "2022-08-01T08:24:53.789441Z"
    },
    "papermill": {
     "duration": 0.026713,
     "end_time": "2022-08-01T08:24:53.792160",
     "exception": false,
     "start_time": "2022-08-01T08:24:53.765447",
     "status": "completed"
    },
    "tags": []
   },
   "outputs": [
    {
     "data": {
      "text/plain": [
       "Quick Bites       5239\n",
       "Casual Dining     4711\n",
       "none              1769\n",
       "Bakery             775\n",
       "Dessert Parlor     584\n",
       "Café               348\n",
       "Sweet Shop         163\n",
       "Beverage Shop      130\n",
       "Food Court          78\n",
       "Dhaba               54\n",
       "Name: OUTLET_TYPE, dtype: int64"
      ]
     },
     "execution_count": 20,
     "metadata": {},
     "output_type": "execute_result"
    }
   ],
   "source": [
    "#Top 10 types of outlets\n",
    "df['OUTLET_TYPE'].value_counts().nlargest(10)"
   ]
  },
  {
   "cell_type": "code",
   "execution_count": 21,
   "id": "f07e7a4a",
   "metadata": {
    "execution": {
     "iopub.execute_input": "2022-08-01T08:24:53.818031Z",
     "iopub.status.busy": "2022-08-01T08:24:53.817397Z",
     "iopub.status.idle": "2022-08-01T08:24:54.021307Z",
     "shell.execute_reply": "2022-08-01T08:24:54.019668Z"
    },
    "papermill": {
     "duration": 0.219469,
     "end_time": "2022-08-01T08:24:54.023064",
     "exception": false,
     "start_time": "2022-08-01T08:24:53.803595",
     "status": "completed"
    },
    "tags": []
   },
   "outputs": [
    {
     "data": {
      "image/png": "[encoded data removed]",
      "text/plain": [
       "<Figure size 720x288 with 1 Axes>"
      ]
     },
     "metadata": {
      "needs_background": "light"
     },
     "output_type": "display_data"
    }
   ],
   "source": [
    "#Plotting Graph between no. of restaurant and type of outlet\n",
    "x = df['OUTLET_TYPE'].value_counts().nlargest(10).index\n",
    "y = df['OUTLET_TYPE'].value_counts().nlargest(10).values\n",
    "plt.figure(figsize=(10, 4))\n",
    "plt.title(\"Type of Restaurants vs Count\")\n",
    "plt.xlabel(\"Type of Restaurant\")\n",
    "plt.ylabel(\"No of restaurants\")\n",
    "plt.barh(x,y)\n",
    "for index, value in enumerate(y):\n",
    "    plt.text(value, index, str(value))\n",
    "plt.show()"
   ]
  },
  {
   "cell_type": "markdown",
   "id": "b2509440",
   "metadata": {
    "papermill": {
     "duration": 0.008685,
     "end_time": "2022-08-01T08:24:54.040501",
     "exception": false,
     "start_time": "2022-08-01T08:24:54.031816",
     "status": "completed"
    },
    "tags": []
   },
   "source": [
    "#Alternate way to count cuisines\n",
    "from collections import Counter\n",
    "types = df['CUISINE_CATEGORY'].str.split(',')\n",
    "c = Counter()\n",
    "for t in types:\n",
    "    c.update(t)\n",
    "c = c.most_common(5)  "
   ]
  },
  {
   "cell_type": "code",
   "execution_count": 22,
   "id": "c7855d11",
   "metadata": {
    "execution": {
     "iopub.execute_input": "2022-08-01T08:24:54.059306Z",
     "iopub.status.busy": "2022-08-01T08:24:54.058722Z",
     "iopub.status.idle": "2022-08-01T08:24:54.236472Z",
     "shell.execute_reply": "2022-08-01T08:24:54.235472Z"
    },
    "papermill": {
     "duration": 0.189361,
     "end_time": "2022-08-01T08:24:54.238449",
     "exception": false,
     "start_time": "2022-08-01T08:24:54.049088",
     "status": "completed"
    },
    "tags": []
   },
   "outputs": [],
   "source": [
    "#Finding all the different type of cuisines served\n",
    "df1 = df['CUISINE_CATEGORY'].str.split(',')\n",
    "\n",
    "#Top 5 Cuisines served\n",
    "xy = df1.explode().value_counts().nlargest(5)"
   ]
  },
  {
   "cell_type": "code",
   "execution_count": 23,
   "id": "469cf5c5",
   "metadata": {
    "execution": {
     "iopub.execute_input": "2022-08-01T08:24:54.257700Z",
     "iopub.status.busy": "2022-08-01T08:24:54.256982Z",
     "iopub.status.idle": "2022-08-01T08:24:54.369858Z",
     "shell.execute_reply": "2022-08-01T08:24:54.368762Z"
    },
    "papermill": {
     "duration": 0.12466,
     "end_time": "2022-08-01T08:24:54.371910",
     "exception": false,
     "start_time": "2022-08-01T08:24:54.247250",
     "status": "completed"
    },
    "tags": []
   },
   "outputs": [
    {
     "data": {
      "image/png": "[encoded data removed]",
      "text/plain": [
       "<Figure size 360x360 with 1 Axes>"
      ]
     },
     "metadata": {},
     "output_type": "display_data"
    }
   ],
   "source": [
    "#How many percentage of restaurants serves top 5 cuisines\n",
    "x = xy.index\n",
    "y = xy.values/df.count().NAME\n",
    "plt.figure(figsize=(5, 5))\n",
    "plt.pie(y,labels=x,autopct='%1.2f%%')\n",
    "plt.title(\"Top 5 Cuisines\")\n",
    "plt.show()"
   ]
  },
  {
   "cell_type": "code",
   "execution_count": 24,
   "id": "7f6ee5ff",
   "metadata": {
    "execution": {
     "iopub.execute_input": "2022-08-01T08:24:54.399198Z",
     "iopub.status.busy": "2022-08-01T08:24:54.398517Z",
     "iopub.status.idle": "2022-08-01T08:24:54.409498Z",
     "shell.execute_reply": "2022-08-01T08:24:54.408691Z"
    },
    "papermill": {
     "duration": 0.02744,
     "end_time": "2022-08-01T08:24:54.411853",
     "exception": false,
     "start_time": "2022-08-01T08:24:54.384413",
     "status": "completed"
    },
    "tags": []
   },
   "outputs": [
    {
     "data": {
      "text/plain": [
       "Average      5113\n",
       "Good         4344\n",
       "Not rated    2359\n",
       "Very Good    1147\n",
       "Not Rated     952\n",
       "Excellent      96\n",
       "Poor           57\n",
       "Very Poor       4\n",
       "Name: REVIEWS, dtype: int64"
      ]
     },
     "execution_count": 24,
     "metadata": {},
     "output_type": "execute_result"
    }
   ],
   "source": [
    "#Restaurants reviews count\n",
    "df['REVIEWS'].value_counts()"
   ]
  },
  {
   "cell_type": "code",
   "execution_count": 25,
   "id": "50f6b704",
   "metadata": {
    "execution": {
     "iopub.execute_input": "2022-08-01T08:24:54.438885Z",
     "iopub.status.busy": "2022-08-01T08:24:54.438235Z",
     "iopub.status.idle": "2022-08-01T08:24:54.450075Z",
     "shell.execute_reply": "2022-08-01T08:24:54.449253Z"
    },
    "papermill": {
     "duration": 0.028057,
     "end_time": "2022-08-01T08:24:54.452794",
     "exception": false,
     "start_time": "2022-08-01T08:24:54.424737",
     "status": "completed"
    },
    "tags": []
   },
   "outputs": [
    {
     "data": {
      "text/plain": [
       "Andheri      1158\n",
       "Thane         987\n",
       "Mira Road     556\n",
       "Malad         492\n",
       "Kandivali     485\n",
       "Bandra        463\n",
       "Goregaon      440\n",
       "Dombivali     399\n",
       "Borivali      392\n",
       "Chembur       355\n",
       "Name: REGION, dtype: int64"
      ]
     },
     "execution_count": 25,
     "metadata": {},
     "output_type": "execute_result"
    }
   ],
   "source": [
    "#Top 10 Regions with most number of restaurants\n",
    "df['REGION'].value_counts().nlargest(10)"
   ]
  },
  {
   "cell_type": "code",
   "execution_count": 26,
   "id": "0c2c8518",
   "metadata": {
    "execution": {
     "iopub.execute_input": "2022-08-01T08:24:54.482389Z",
     "iopub.status.busy": "2022-08-01T08:24:54.482077Z",
     "iopub.status.idle": "2022-08-01T08:24:54.638542Z",
     "shell.execute_reply": "2022-08-01T08:24:54.637668Z"
    },
    "papermill": {
     "duration": 0.173027,
     "end_time": "2022-08-01T08:24:54.640323",
     "exception": false,
     "start_time": "2022-08-01T08:24:54.467296",
     "status": "completed"
    },
    "tags": []
   },
   "outputs": [
    {
     "data": {
      "image/png": "[encoded data removed]",
      "text/plain": [
       "<Figure size 720x288 with 1 Axes>"
      ]
     },
     "metadata": {
      "needs_background": "light"
     },
     "output_type": "display_data"
    }
   ],
   "source": [
    "#Region vs No of restaurants.\n",
    "x = df['REGION'].value_counts().nlargest(10).index\n",
    "y = df['REGION'].value_counts().nlargest(10).values\n",
    "plt.figure(figsize=(10, 4))\n",
    "plt.title(\"Region vs No. of Restaurants\")\n",
    "plt.ylabel(\"No of restaurants\")\n",
    "plt.xlabel(\"Region\")\n",
    "plt.barh(x,y)\n",
    "for index, value in enumerate(y):\n",
    "    plt.text(value, index, str(value))\n",
    "plt.show()"
   ]
  },
  {
   "cell_type": "markdown",
   "id": "41ad1519",
   "metadata": {
    "papermill": {
     "duration": 0.008963,
     "end_time": "2022-08-01T08:24:54.659023",
     "exception": false,
     "start_time": "2022-08-01T08:24:54.650060",
     "status": "completed"
    },
    "tags": []
   },
   "source": [
    "> Thank you for coming upto here!\n",
    "> \n",
    "> Please feel free to provide suggestion for improvisation.\n"
   ]
  },
  {
   "cell_type": "markdown",
   "id": "99496e48",
   "metadata": {
    "papermill": {
     "duration": 0.008835,
     "end_time": "2022-08-01T08:24:54.676913",
     "exception": false,
     "start_time": "2022-08-01T08:24:54.668078",
     "status": "completed"
    },
    "tags": []
   },
   "source": []
  }
 ],
 "metadata": {
  "kernelspec": {
   "display_name": "Python 3",
   "language": "python",
   "name": "python3"
  },
  "language_info": {
   "codemirror_mode": {
    "name": "ipython",
    "version": 3
   },
   "file_extension": ".py",
   "mimetype": "text/x-python",
   "name": "python",
   "nbconvert_exporter": "python",
   "pygments_lexer": "ipython3",
   "version": "3.7.12"
  },
  "papermill": {
   "default_parameters": {},
   "duration": 13.465881,
   "end_time": "2022-08-01T08:24:55.405583",
   "environment_variables": {},
   "exception": null,
   "input_path": "__notebook__.ipynb",
   "output_path": "__notebook__.ipynb",
   "parameters": {},
   "start_time": "2022-08-01T08:24:41.939702",
   "version": "2.3.4"
  }
 },
 "nbformat": 4,
 "nbformat_minor": 5
}
